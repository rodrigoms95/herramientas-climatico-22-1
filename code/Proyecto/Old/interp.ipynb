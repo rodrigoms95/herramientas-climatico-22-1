{
 "cells": [
  {
   "cell_type": "code",
   "execution_count": null,
   "metadata": {},
   "outputs": [],
   "source": [
    "# Interpola las variables y la máscara con\n",
    "# el método \"nearest\" para poder tener\n",
    "# información en todos los municipios.\n",
    "\n",
    "import os\n",
    "import rioxarray\n",
    "\n",
    "import pandas as pd\n",
    "import numpy as np\n",
    "\n",
    "import xarray as xr\n",
    "import geopandas as gpd"
   ]
  },
  {
   "cell_type": "code",
   "execution_count": null,
   "metadata": {},
   "outputs": [],
   "source": [
    "path_drive = \"/content/drive/MyDrive/Colab/\"\n",
    "\n",
    "path_d = [path_drive + \"CHIRTS/\",\n",
    "    path_drive + \"CHIRTS/\",\n",
    "    path_drive + \"CHIRPS/\"]\n",
    "path_mask = path_drive + \"municipios_mask.nc\"\n",
    "path_shp = path_drive + \"Municipios/mun20gw.shp\"\n",
    "\n",
    "vars = [\"Tmax\", \"Tmin\", \"Pre\"]\n",
    "\n",
    "# Si no existen la carpetas, las crea.\n",
    "if not os.path.exists(path_drive + \"vars/\"):\n",
    "    os.mkdir(path_drive + \"vars/\")\n",
    "    for i in vars:\n",
    "        os.mkdir(path_drive + \"vars/\" + i)"
   ]
  },
  {
   "cell_type": "code",
   "execution_count": null,
   "metadata": {},
   "outputs": [],
   "source": [
    "# Nuevo rango de latitud y longitud\n",
    "lat = np.linspace(14.574999, 32.724999, 727)\n",
    "lon = np.linspace(-118.374999, -86.674999, 1269)\n",
    "\n",
    "# Interpolación de las variables.\n",
    "for i in range(len(vars)):\n",
    "    for j in range(1995, 2017):\n",
    "        ds = ( xr.open_dataset(path_d[i]\n",
    "            + vars[i] + \"/mexico_\" + vars[i]\n",
    "            + \".\" + str(j) + \".nc\") )\n",
    "        ds = ds.where(ds > -9000)\n",
    "        ds_int = ( ds.interp(lat = lat,\n",
    "            lon = lon, method = \"nearest\") )\n",
    "        ds_int.to_netcdf(path_drive + \"vars/\" \n",
    "            + vars[i] + \"/mexico_\" + vars[i]\n",
    "            + \".\" + str(j) + \".nc\")"
   ]
  },
  {
   "cell_type": "code",
   "execution_count": null,
   "metadata": {},
   "outputs": [],
   "source": [
    "# Cargamos el archivo base para las máscaras.\n",
    "ds = xr.open_dataset(path_drive + \"vars/\"\n",
    "    + vars[i] + \"/mexico_\" + vars[i]\n",
    "    + \".1995.nc\")\n",
    "\n",
    "# Se cargan los municipios.\n",
    "gdf = gpd.read_file( path_shp )\n",
    "\n",
    "# Se obtiene el contorno de los municiipios.\n",
    "gdf[\"boundary\"] = gdf.boundary\n",
    "\n",
    "# Se establece el datum de los datos.\n",
    "ds = ds.rio.write_crs(gdf.crs)\n",
    "\n",
    "# Se hace un Dataset con unos para todo el país\n",
    "mask_0 = xr.ones_like( ds.isel(time = 0)\n",
    "    .drop([\"time\", \"spatial_ref\"])\n",
    "    .expand_dims(dim = \"municipio\"),\n",
    "    dtype = int ).rio.write_crs(gdf.crs)\n",
    "\n",
    "# La lista que contra los Datasets la \n",
    "# máscara para cada municipio.\n",
    "mask = []\n",
    "\n",
    "# Se hace la máscara para cada municipio.\n",
    "for i in range(gdf.shape[0]):\n",
    "    mask.append( mask_0.rio.clip(\n",
    "        gdf[gdf.index == i].geometry,\n",
    "        gdf.crs, drop=False, invert=False) )\n",
    "\n",
    "# Se unen las máscaras para todos los municipios.\n",
    "mask = ( xr.concat(mask, dim = \"municipio\")\n",
    "    .drop(\"spatial_ref\") )\n",
    "mask = mask.where(mask > -9000)"
   ]
  },
  {
   "cell_type": "code",
   "execution_count": null,
   "metadata": {},
   "outputs": [],
   "source": [
    "# Guardamo☼ la máscara\n",
    "mask.to_netcdf(path_drive + \"municipios_mask_025.nc\")"
   ]
  }
 ],
 "metadata": {
  "language_info": {
   "name": "python"
  },
  "orig_nbformat": 4
 },
 "nbformat": 4,
 "nbformat_minor": 2
}
