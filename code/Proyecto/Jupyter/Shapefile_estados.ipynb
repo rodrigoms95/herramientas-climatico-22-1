{
  "nbformat": 4,
  "nbformat_minor": 0,
  "metadata": {
    "colab": {
      "name": "Shapefile_estados.ipynb",
      "provenance": [],
      "authorship_tag": "ABX9TyM4+LX9vX7+zXgD5iVvgRPu"
    },
    "kernelspec": {
      "name": "python3",
      "display_name": "Python 3"
    },
    "language_info": {
      "name": "python"
    }
  },
  "cells": [
    {
      "cell_type": "code",
      "execution_count": null,
      "metadata": {
        "colab": {
          "base_uri": "https://localhost:8080/"
        },
        "id": "j2jZvBD-MjL7",
        "outputId": "2a8c57ec-6752-43a5-bbbe-4a09a929d69f"
      },
      "outputs": [
        {
          "output_type": "stream",
          "name": "stdout",
          "text": [
            "Mounted at /content/drive\n"
          ]
        }
      ],
      "source": [
        "# Activar Google Drive.\n",
        "from google.colab import drive\n",
        "drive.mount('/content/drive', force_remount = True)"
      ]
    },
    {
      "cell_type": "code",
      "source": [
        "# Crea un shapefile con la información de consumo y usuarios predicha por\n",
        "# estado por el modelo de Gradient Boosting.\n",
        "\n",
        "!pip install geopandas\n",
        "\n",
        "import os\n",
        "\n",
        "import pandas as pd\n",
        "import numpy as np\n",
        "import geopandas as gpd"
      ],
      "metadata": {
        "colab": {
          "base_uri": "https://localhost:8080/"
        },
        "id": "-wp0KwqjMlWL",
        "outputId": "4a56d2b9-d074-458e-d291-7ba4421138d5"
      },
      "execution_count": null,
      "outputs": [
        {
          "output_type": "stream",
          "name": "stdout",
          "text": [
            "Looking in indexes: https://pypi.org/simple, https://us-python.pkg.dev/colab-wheels/public/simple/\n",
            "Requirement already satisfied: geopandas in /usr/local/lib/python3.7/dist-packages (0.10.2)\n",
            "Requirement already satisfied: pyproj>=2.2.0 in /usr/local/lib/python3.7/dist-packages (from geopandas) (3.2.1)\n",
            "Requirement already satisfied: shapely>=1.6 in /usr/local/lib/python3.7/dist-packages (from geopandas) (1.8.2)\n",
            "Requirement already satisfied: fiona>=1.8 in /usr/local/lib/python3.7/dist-packages (from geopandas) (1.8.21)\n",
            "Requirement already satisfied: pandas>=0.25.0 in /usr/local/lib/python3.7/dist-packages (from geopandas) (1.3.5)\n",
            "Requirement already satisfied: certifi in /usr/local/lib/python3.7/dist-packages (from fiona>=1.8->geopandas) (2022.5.18.1)\n",
            "Requirement already satisfied: setuptools in /usr/local/lib/python3.7/dist-packages (from fiona>=1.8->geopandas) (57.4.0)\n",
            "Requirement already satisfied: six>=1.7 in /usr/local/lib/python3.7/dist-packages (from fiona>=1.8->geopandas) (1.15.0)\n",
            "Requirement already satisfied: munch in /usr/local/lib/python3.7/dist-packages (from fiona>=1.8->geopandas) (2.5.0)\n",
            "Requirement already satisfied: cligj>=0.5 in /usr/local/lib/python3.7/dist-packages (from fiona>=1.8->geopandas) (0.7.2)\n",
            "Requirement already satisfied: click>=4.0 in /usr/local/lib/python3.7/dist-packages (from fiona>=1.8->geopandas) (7.1.2)\n",
            "Requirement already satisfied: attrs>=17 in /usr/local/lib/python3.7/dist-packages (from fiona>=1.8->geopandas) (21.4.0)\n",
            "Requirement already satisfied: click-plugins>=1.0 in /usr/local/lib/python3.7/dist-packages (from fiona>=1.8->geopandas) (1.1.1)\n",
            "Requirement already satisfied: pytz>=2017.3 in /usr/local/lib/python3.7/dist-packages (from pandas>=0.25.0->geopandas) (2022.1)\n",
            "Requirement already satisfied: python-dateutil>=2.7.3 in /usr/local/lib/python3.7/dist-packages (from pandas>=0.25.0->geopandas) (2.8.2)\n",
            "Requirement already satisfied: numpy>=1.17.3 in /usr/local/lib/python3.7/dist-packages (from pandas>=0.25.0->geopandas) (1.21.6)\n"
          ]
        }
      ]
    },
    {
      "cell_type": "code",
      "source": [
        "# Datos.\n",
        "path = \"/content/drive/MyDrive/Colab/Subsidio_electricidad/\"\n",
        "path_data = path + \"data/\"\n",
        "path_res = path_data + \"RCP8p5/data.2030_estados/\"\n",
        "fname = \"data.csv\"\n",
        "fname_res = path_res + \"data.2030_estados\"\n",
        "\n",
        "# Escenarios\n",
        "RCP = [\"RCP4p5\", \"RCP8p5\"]\n",
        "fut = [2030, 2050, 2070]\n",
        "\n",
        "# Directorios.\n",
        "#dirs = [\"Actual\"] + RCP\n",
        "dirs = [RCP[1]]\n",
        "csv = \".csv\"\n",
        "path_data = [path + \"data/\" + x + \"/data.\" for x in dirs]\n",
        "f_path = []\n",
        "for p in path_data:\n",
        "    f_path = ( f_path + [p + str(x) + csv for x in fut]\n",
        "        + [p + str(x) + \"_tarifa_teorica\" + csv for x in fut]\n",
        "        + [p + str(x) + \"_pob_pib\" + csv for x in fut] )\n",
        "\n",
        "# Nombres de los archivos con la información de los estados.\n",
        "f_path_estados = [ x[:-4] + \"_estados.csv\" for x in f_path ]\n",
        "\n",
        "# Si no existen las carpetas, las crea.\n",
        "if not os.path.exists(path_res): os.mkdir(path_res)"
      ],
      "metadata": {
        "id": "IUePE2rKgruD"
      },
      "execution_count": null,
      "outputs": []
    },
    {
      "cell_type": "code",
      "source": [
        "# Dataframe con usuarios y consumo.\n",
        "df = pd.read_csv(f_path_estados[0])\n",
        "df = df[df[\"Mes\"] == 1]\n",
        "df.reset_index( inplace = True, drop = True )\n",
        "\n",
        "# Shapefile de estados de la república.\n",
        "gdf_path = path + \"Municipios/Division_estatal\"\n",
        "gdf = gpd.read_file(gdf_path)\n",
        "\n",
        "# Abrimos el archivo y lo ordenamos.\n",
        "gdf.sort_values( \"CVE_ENT\", inplace = True )\n",
        "gdf.reset_index( inplace = True, drop = True )\n",
        "\n",
        "# Copiamos los valores relevantes al shapefile.\n",
        "gdf[\"Usuarios_1*\"] = df[\"Usuarios_1*\"]\n",
        "gdf[\"Consumo_1*\"] = df[\"Consumo_1*\"]\n",
        "\n",
        "# Guardamos el archivo.\n",
        "gdf.to_file(fname_res)"
      ],
      "metadata": {
        "colab": {
          "base_uri": "https://localhost:8080/"
        },
        "id": "eExIgQQ1Pk2w",
        "outputId": "44684d6f-9f07-4795-b5d4-e8a7775245bb"
      },
      "execution_count": null,
      "outputs": [
        {
          "output_type": "stream",
          "name": "stderr",
          "text": [
            "/usr/local/lib/python3.7/dist-packages/ipykernel_launcher.py:19: UserWarning: Column names longer than 10 characters will be truncated when saved to ESRI Shapefile.\n"
          ]
        }
      ]
    }
  ]
}