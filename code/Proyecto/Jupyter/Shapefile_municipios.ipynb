{
  "nbformat": 4,
  "nbformat_minor": 0,
  "metadata": {
    "colab": {
      "name": "Shapefile_municipios.ipynb",
      "provenance": [],
      "authorship_tag": "ABX9TyPZBPgvlPmLefGcETtLjcr6"
    },
    "kernelspec": {
      "name": "python3",
      "display_name": "Python 3"
    },
    "language_info": {
      "name": "python"
    }
  },
  "cells": [
    {
      "cell_type": "code",
      "execution_count": null,
      "metadata": {
        "colab": {
          "base_uri": "https://localhost:8080/"
        },
        "id": "j2jZvBD-MjL7",
        "outputId": "a0247aff-2cbe-4ea7-c529-c6d8b58d30bf"
      },
      "outputs": [
        {
          "output_type": "stream",
          "name": "stdout",
          "text": [
            "Mounted at /content/drive\n"
          ]
        }
      ],
      "source": [
        "# Activar Google Drive.\n",
        "from google.colab import drive\n",
        "drive.mount('/content/drive', force_remount = True)"
      ]
    },
    {
      "cell_type": "code",
      "source": [
        "# Crea un shapefile con la información de consumo y usuarios predicha por\n",
        "# estado por el modelo de Gradient Boosting.\n",
        "\n",
        "!pip install geopandas\n",
        "\n",
        "import os\n",
        "\n",
        "import pandas as pd\n",
        "import numpy as np\n",
        "import geopandas as gpd"
      ],
      "metadata": {
        "colab": {
          "base_uri": "https://localhost:8080/"
        },
        "id": "-wp0KwqjMlWL",
        "outputId": "5d34d75f-86b2-46e9-a301-d453239b0abe"
      },
      "execution_count": null,
      "outputs": [
        {
          "output_type": "stream",
          "name": "stdout",
          "text": [
            "Looking in indexes: https://pypi.org/simple, https://us-python.pkg.dev/colab-wheels/public/simple/\n",
            "Collecting geopandas\n",
            "  Downloading geopandas-0.10.2-py2.py3-none-any.whl (1.0 MB)\n",
            "\u001b[K     |████████████████████████████████| 1.0 MB 13.9 MB/s \n",
            "\u001b[?25hRequirement already satisfied: shapely>=1.6 in /usr/local/lib/python3.7/dist-packages (from geopandas) (1.8.2)\n",
            "Collecting fiona>=1.8\n",
            "  Downloading Fiona-1.8.21-cp37-cp37m-manylinux2014_x86_64.whl (16.7 MB)\n",
            "\u001b[K     |████████████████████████████████| 16.7 MB 68.4 MB/s \n",
            "\u001b[?25hCollecting pyproj>=2.2.0\n",
            "  Downloading pyproj-3.2.1-cp37-cp37m-manylinux2010_x86_64.whl (6.3 MB)\n",
            "\u001b[K     |████████████████████████████████| 6.3 MB 61.7 MB/s \n",
            "\u001b[?25hRequirement already satisfied: pandas>=0.25.0 in /usr/local/lib/python3.7/dist-packages (from geopandas) (1.3.5)\n",
            "Requirement already satisfied: certifi in /usr/local/lib/python3.7/dist-packages (from fiona>=1.8->geopandas) (2022.5.18.1)\n",
            "Requirement already satisfied: six>=1.7 in /usr/local/lib/python3.7/dist-packages (from fiona>=1.8->geopandas) (1.15.0)\n",
            "Collecting munch\n",
            "  Downloading munch-2.5.0-py2.py3-none-any.whl (10 kB)\n",
            "Requirement already satisfied: attrs>=17 in /usr/local/lib/python3.7/dist-packages (from fiona>=1.8->geopandas) (21.4.0)\n",
            "Requirement already satisfied: setuptools in /usr/local/lib/python3.7/dist-packages (from fiona>=1.8->geopandas) (57.4.0)\n",
            "Requirement already satisfied: click>=4.0 in /usr/local/lib/python3.7/dist-packages (from fiona>=1.8->geopandas) (7.1.2)\n",
            "Collecting cligj>=0.5\n",
            "  Downloading cligj-0.7.2-py3-none-any.whl (7.1 kB)\n",
            "Collecting click-plugins>=1.0\n",
            "  Downloading click_plugins-1.1.1-py2.py3-none-any.whl (7.5 kB)\n",
            "Requirement already satisfied: numpy>=1.17.3 in /usr/local/lib/python3.7/dist-packages (from pandas>=0.25.0->geopandas) (1.21.6)\n",
            "Requirement already satisfied: pytz>=2017.3 in /usr/local/lib/python3.7/dist-packages (from pandas>=0.25.0->geopandas) (2022.1)\n",
            "Requirement already satisfied: python-dateutil>=2.7.3 in /usr/local/lib/python3.7/dist-packages (from pandas>=0.25.0->geopandas) (2.8.2)\n",
            "Installing collected packages: munch, cligj, click-plugins, pyproj, fiona, geopandas\n",
            "Successfully installed click-plugins-1.1.1 cligj-0.7.2 fiona-1.8.21 geopandas-0.10.2 munch-2.5.0 pyproj-3.2.1\n"
          ]
        }
      ]
    },
    {
      "cell_type": "code",
      "source": [
        "# Datos.\n",
        "path = \"/content/drive/MyDrive/Colab/Subsidio_electricidad/\"\n",
        "path_data = path + \"data/\"\n",
        "path_res = path_data + \"RCP8p5/data.2030/\"\n",
        "fname = \"data.csv\"\n",
        "fname_res = path_res + \"data.2030\"\n",
        "\n",
        "# Escenarios\n",
        "RCP = [\"RCP4p5\", \"RCP8p5\"]\n",
        "fut = [2030, 2050, 2070]\n",
        "\n",
        "# Directorios.\n",
        "#dirs = [\"Actual\"] + RCP\n",
        "dirs = [RCP[1]]\n",
        "csv = \".csv\"\n",
        "path_data = [path_data + x + \"/data.\" for x in dirs]\n",
        "f_path = []\n",
        "for p in path_data:\n",
        "    f_path = ( f_path + [p + str(x) + csv for x in fut]\n",
        "        + [p + str(x) + \"_tarifa_teorica\" + csv for x in fut]\n",
        "        + [p + str(x) + \"_pob_pib\" + csv for x in fut] )\n",
        "\n",
        "# Si no existen las carpetas, las crea.\n",
        "if not os.path.exists(path_res): os.mkdir(path_res)"
      ],
      "metadata": {
        "id": "IUePE2rKgruD"
      },
      "execution_count": null,
      "outputs": []
    },
    {
      "cell_type": "code",
      "source": [
        "# Dataframe con usuarios y consumo.\n",
        "df = pd.read_csv(f_path[0])\n",
        "df = df[df[\"Mes\"] == 1]\n",
        "df.reset_index( inplace = True, drop = True )\n",
        "\n",
        "# Shapefile de estados de la república.\n",
        "gdf_path = path + \"Municipios/Mapas\"\n",
        "gdf = gpd.read_file(gdf_path)\n",
        "\n",
        "# Abrimos el archivo y lo ordenamos.\n",
        "gdf.sort_values( \"CVEGEO\", inplace = True )\n",
        "gdf.reset_index( inplace = True, drop = True )\n",
        "\n",
        "# Copiamos los valores relevantes al shapefile.\n",
        "gdf[\"Usuarios_1*\"] = df[\"Usuarios_1*\"]\n",
        "gdf[\"Consumo_1*\"] = df[\"Consumo_1*\"]\n",
        "\n",
        "# Guardamos el archivo.\n",
        "gdf.to_file(fname_res)"
      ],
      "metadata": {
        "colab": {
          "base_uri": "https://localhost:8080/"
        },
        "id": "eExIgQQ1Pk2w",
        "outputId": "0c530611-0299-4116-eea2-83f532aea8a6"
      },
      "execution_count": null,
      "outputs": [
        {
          "output_type": "stream",
          "name": "stderr",
          "text": [
            "/usr/local/lib/python3.7/dist-packages/ipykernel_launcher.py:19: UserWarning: Column names longer than 10 characters will be truncated when saved to ESRI Shapefile.\n"
          ]
        }
      ]
    }
  ]
}