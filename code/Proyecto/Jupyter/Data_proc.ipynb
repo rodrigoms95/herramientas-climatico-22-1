{
 "cells": [
  {
   "cell_type": "code",
   "execution_count": null,
   "metadata": {},
   "outputs": [],
   "source": [
    "# Procesa el dataframe para el machine learning.\n",
    "\n",
    "import pandas as pd"
   ]
  },
  {
   "cell_type": "code",
   "execution_count": null,
   "metadata": {},
   "outputs": [],
   "source": [
    "path_drive = \"/content/drive/MyDrive/Colab/\" \n",
    "path_data = path_drive + \"data/data_\"\n",
    "path_socio = path_drive + \"Socioeconomicos/\"\n",
    "csv = \".csv\"\n",
    "socio = [ \"Electrico_residencial_2010_2017.csv\",\n",
    "    \"Datos demográficos.csv\", \"GLP_2010_2016.csv\" ]\n",
    "\n",
    "data = pd.read_csv(path_data + str(0) + csv)"
   ]
  },
  {
   "cell_type": "code",
   "execution_count": null,
   "metadata": {},
   "outputs": [],
   "source": [
    "# Agrega las variables procesadas para cada municipio.\n",
    "for i in range(1, 10):\n",
    "    data_i = pd.read_csv(path_data + str(i) + csv)\n",
    "    data.iloc[:, i + 10] = data_i.iloc[:,i + 3]"
   ]
  },
  {
   "cell_type": "code",
   "execution_count": null,
   "metadata": {},
   "outputs": [],
   "source": [
    "# Agrega el preico de gas LP.\n",
    "df_socio = pd.read_csv(path_socio + socio[2])\n",
    "for j in range(2010, 2017):\n",
    "    for i in range(1, 33):\n",
    "        data.loc[ (data[\"Año\"] == j) & (data[\"CVE_ENT\"] == i),\n",
    "        \"$GLP\" ] = df_socio.loc[\n",
    "        df_socio[\"CVE_ENT\"] == i, str(j)].values[0]\n",
    "\n",
    "# Agrega la población y el PIB.    \n",
    "df_socio = pd.read_csv(path_socio + socio[1])\n",
    "for j in range(2010, 2017):\n",
    "    for i in data[\"CVE_INEGI\"].unique():\n",
    "        for k in [\"Población\", \"PIB\"]:\n",
    "            data.loc[ (data[\"Año\"] == j) & (data[\"CVE_INEGI\"] == i),\n",
    "                k ] = df_socio.loc[df_socio[\"CVE_INEGI\"] == i,\n",
    "                k + \" \" + str(j)].values[0]\n",
    "\n",
    "# Agrega el consumo y la cantidad de usuarios.\n",
    "df_socio = pd.read_csv(path_socio + socio[0])\n",
    "for j in range(2010, 2017):\n",
    "    for i in data[\"CVE_INEGI\"].unique():\n",
    "        for k in [\"Consumo\", \"Usuarios\"]:\n",
    "            for l in [\"1*\", \"DAC\"]:\n",
    "                data.loc[ (data[\"Año\"] == j) & (data[\"CVE_INEGI\"] == i),\n",
    "                    k + \"_\" + l ] = df_socio.loc[(df_socio[\"CVE_INEGI\"] == i)\n",
    "                    & df_socio[\"Tarifa\"].str.contains(l, regex = True),\n",
    "                    k + \" \" + str(j)].values[0]\n",
    "\n",
    "# PIB per cápita y densidad de población.\n",
    "data[\"PCI\"] = data[\"PIB\"] / data[\"Población\"]\n",
    "data[\"Densidad_población\"] = data[\"Población\"] / data[\"Area\"]"
   ]
  },
  {
   "cell_type": "code",
   "execution_count": null,
   "metadata": {},
   "outputs": [],
   "source": [
    "# Escogemos las variables relevantes.\n",
    "data_proc = data.drop([\"Area\", \"CVE_ENT\", \"CVE_MUN\",\n",
    "  \"CVE_INEGI\", \"T_max\", \"T_min\", \"HDD_mean\",\n",
    "  \"HDD_p10\",  \"CDD_p90\", \"$luz\"], axis = 1)\n",
    "\n",
    "data_proc.to_csv(path_data[:-1] + csv, index = False) )\n",
    "\n",
    "# Correlación entre variables.\n",
    "data_proc.corr()"
   ]
  }
 ],
 "metadata": {
  "language_info": {
   "name": "python"
  },
  "orig_nbformat": 4
 },
 "nbformat": 4,
 "nbformat_minor": 2
}
