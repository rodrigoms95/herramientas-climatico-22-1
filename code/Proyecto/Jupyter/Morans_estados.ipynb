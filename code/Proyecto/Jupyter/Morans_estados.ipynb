{
 "cells": [
  {
   "cell_type": "code",
   "execution_count": 73,
   "metadata": {
    "vscode": {
     "languageId": "r"
    }
   },
   "outputs": [],
   "source": [
    "library(sf)\n",
    "library(spdep)"
   ]
  },
  {
   "cell_type": "code",
   "execution_count": 74,
   "metadata": {
    "vscode": {
     "languageId": "r"
    }
   },
   "outputs": [
    {
     "name": "stdout",
     "output_type": "stream",
     "text": [
      "Reading layer `data.2030_estados' from data source \n",
      "  `/Users/rodrigo/Documents/Posgrado/Maestria/Semestre 1/Herramientas cambio climatico/herramientas-climatico-22-1/resultados/data/RCP8p5/data.2030_estados' \n",
      "  using driver `ESRI Shapefile'\n",
      "Simple feature collection with 32 features and 10 fields\n",
      "Geometry type: MULTIPOLYGON\n",
      "Dimension:     XY\n",
      "Bounding box:  xmin: -118.3651 ymin: 14.53507 xmax: -86.71074 ymax: 32.71863\n",
      "Geodetic CRS:  WGS 84\n"
     ]
    }
   ],
   "source": [
    "# Directorio\n",
    "path <- \"../../../resultados/data/RCP8p5/data.2030_estados\"\n",
    "s <- st_read( path )"
   ]
  },
  {
   "cell_type": "code",
   "execution_count": 89,
   "metadata": {
    "vscode": {
     "languageId": "r"
    }
   },
   "outputs": [
    {
     "data": {
      "text/html": [
       "0.338"
      ],
      "text/latex": [
       "0.338"
      ],
      "text/markdown": [
       "0.338"
      ],
      "text/plain": [
       "[1] 0.338"
      ]
     },
     "metadata": {},
     "output_type": "display_data"
    },
    {
     "data": {
      "text/html": [
       "0.083"
      ],
      "text/latex": [
       "0.083"
      ],
      "text/markdown": [
       "0.083"
      ],
      "text/plain": [
       "[1] 0.083"
      ]
     },
     "metadata": {},
     "output_type": "display_data"
    }
   ],
   "source": [
    "nb <- poly2nb( s, queen = TRUE )\n",
    "lw <- nb2listw( nb, style = \"W\", zero.policy = TRUE )\n",
    "MC_U <- moran.mc( s$Usuarios_1, lw, nsim = 999, alternative = \"less\")\n",
    "MC_C <- moran.mc( s$Consumo_1., lw, nsim = 999, alternative = \"less\")\n",
    "\n",
    "MC_U$p.value\n",
    "MC_C$p.value"
   ]
  },
  {
   "cell_type": "code",
   "execution_count": 84,
   "metadata": {
    "vscode": {
     "languageId": "r"
    }
   },
   "outputs": [
    {
     "data": {
      "text/html": [
       "0.127"
      ],
      "text/latex": [
       "0.127"
      ],
      "text/markdown": [
       "0.127"
      ],
      "text/plain": [
       "[1] 0.127"
      ]
     },
     "metadata": {},
     "output_type": "display_data"
    },
    {
     "data": {
      "text/html": [
       "0.541"
      ],
      "text/latex": [
       "0.541"
      ],
      "text/markdown": [
       "0.541"
      ],
      "text/plain": [
       "[1] 0.541"
      ]
     },
     "metadata": {},
     "output_type": "display_data"
    }
   ],
   "source": [
    "coords <- coordinates( as( s, 'Spatial' ) )\n",
    "nb <- knn2nb( knearneigh( coords, k = 1 ) )\n",
    "lw <- nb2listw( nb, style = \"W\", zero.policy = TRUE )\n",
    "MC_U <- moran.mc( s$Usuarios_1, lw, nsim = 999, alternative = \"greater\")\n",
    "MC_C <- moran.mc( s$Consumo_1., lw, nsim = 999, alternative = \"less\")\n",
    "\n",
    "MC_U$p.value\n",
    "MC_C$p.value"
   ]
  },
  {
   "cell_type": "code",
   "execution_count": 85,
   "metadata": {
    "vscode": {
     "languageId": "r"
    }
   },
   "outputs": [
    {
     "data": {
      "text/html": [
       "0.512"
      ],
      "text/latex": [
       "0.512"
      ],
      "text/markdown": [
       "0.512"
      ],
      "text/plain": [
       "[1] 0.512"
      ]
     },
     "metadata": {},
     "output_type": "display_data"
    },
    {
     "data": {
      "text/html": [
       "0.171"
      ],
      "text/latex": [
       "0.171"
      ],
      "text/markdown": [
       "0.171"
      ],
      "text/plain": [
       "[1] 0.171"
      ]
     },
     "metadata": {},
     "output_type": "display_data"
    }
   ],
   "source": [
    "coords <- coordinates( as( s, 'Spatial' ) )\n",
    "nb <- knn2nb( knearneigh( coords, k = 2 ) )\n",
    "lw <- nb2listw( nb, style = \"W\", zero.policy = TRUE )\n",
    "MC_U <- moran.mc( s$Usuarios_1, lw, nsim = 999, alternative = \"greater\")\n",
    "MC_C <- moran.mc( s$Consumo_1., lw, nsim = 999, alternative = \"less\")\n",
    "\n",
    "MC_U$p.value\n",
    "MC_C$p.value"
   ]
  },
  {
   "cell_type": "code",
   "execution_count": 86,
   "metadata": {
    "vscode": {
     "languageId": "r"
    }
   },
   "outputs": [
    {
     "data": {
      "text/html": [
       "0.372"
      ],
      "text/latex": [
       "0.372"
      ],
      "text/markdown": [
       "0.372"
      ],
      "text/plain": [
       "[1] 0.372"
      ]
     },
     "metadata": {},
     "output_type": "display_data"
    },
    {
     "data": {
      "text/html": [
       "0.113"
      ],
      "text/latex": [
       "0.113"
      ],
      "text/markdown": [
       "0.113"
      ],
      "text/plain": [
       "[1] 0.113"
      ]
     },
     "metadata": {},
     "output_type": "display_data"
    }
   ],
   "source": [
    "coords <- coordinates( as( s, 'Spatial' ) )\n",
    "nb <- knn2nb( knearneigh( coords, k = 3 ) )\n",
    "lw <- nb2listw( nb, style = \"W\", zero.policy = TRUE )\n",
    "MC_U <- moran.mc( s$Usuarios_1, lw, nsim = 999, alternative = \"greater\")\n",
    "MC_C <- moran.mc( s$Consumo_1., lw, nsim = 999, alternative = \"less\")\n",
    "\n",
    "MC_U$p.value\n",
    "MC_C$p.value"
   ]
  },
  {
   "cell_type": "code",
   "execution_count": 87,
   "metadata": {
    "vscode": {
     "languageId": "r"
    }
   },
   "outputs": [
    {
     "data": {
      "text/html": [
       "0.239"
      ],
      "text/latex": [
       "0.239"
      ],
      "text/markdown": [
       "0.239"
      ],
      "text/plain": [
       "[1] 0.239"
      ]
     },
     "metadata": {},
     "output_type": "display_data"
    },
    {
     "data": {
      "text/html": [
       "0.193"
      ],
      "text/latex": [
       "0.193"
      ],
      "text/markdown": [
       "0.193"
      ],
      "text/plain": [
       "[1] 0.193"
      ]
     },
     "metadata": {},
     "output_type": "display_data"
    }
   ],
   "source": [
    "coords <- coordinates( as( s, 'Spatial' ) )\n",
    "nb <- knn2nb( knearneigh( coords, k = 4 ) )\n",
    "lw <- nb2listw( nb, style = \"W\", zero.policy = TRUE )\n",
    "MC_U <- moran.mc( s$Usuarios_1, lw, nsim = 999, alternative = \"greater\")\n",
    "MC_C <- moran.mc( s$Consumo_1., lw, nsim = 999, alternative = \"less\")\n",
    "\n",
    "MC_U$p.value\n",
    "MC_C$p.value"
   ]
  }
 ],
 "metadata": {
  "kernelspec": {
   "display_name": "R",
   "language": "R",
   "name": "ir"
  },
  "language_info": {
   "codemirror_mode": "r",
   "file_extension": ".r",
   "mimetype": "text/x-r-source",
   "name": "R",
   "pygments_lexer": "r",
   "version": "4.1.2"
  },
  "orig_nbformat": 4
 },
 "nbformat": 4,
 "nbformat_minor": 2
}
