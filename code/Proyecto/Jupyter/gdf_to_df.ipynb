{
 "cells": [
  {
   "cell_type": "code",
   "execution_count": 1,
   "metadata": {},
   "outputs": [],
   "source": [
    "# Guarda la información de cada municipio en un DataFrame.\n",
    "\n",
    "import os\n",
    "\n",
    "import pandas as pd\n",
    "import numpy as np\n",
    "\n",
    "import geopandas as gpd"
   ]
  },
  {
   "cell_type": "code",
   "execution_count": 2,
   "metadata": {},
   "outputs": [],
   "source": [
    "RCP = [\"RCP4p5\", \"RCP8p5\"]\n",
    "dirs = [\"Actual\"] + RCP\n",
    "path = \"../../../resultados/data/\"\n",
    "\n",
    "path_r = [path + x for x in dirs ]\n",
    "path_shp = \"../../../datos/Mapas/Municipios/mun20gw.shp\"\n",
    "\n",
    "fut = [2010, 2030, 2050, 2070]\n",
    "\n",
    "# Si no existen las carpetas, las crea.\n",
    "if not os.path.exists(path):\n",
    "    os.mkdir(path)\n",
    "for f in path_r:\n",
    "    if not os.path.exists(f):\n",
    "        os.mkdir(f)\n",
    "\n",
    "# Cargamos los municipios.\n",
    "gdf = gpd.read_file( path_shp )\n",
    "\n",
    "# Renombramos la columna que identifica cada \n",
    "# municipio con el valor único de INEGI.\n",
    "gdf.rename(columns = {\n",
    "    \"CVEGEO\": \"CVE_INEGI\"},\n",
    "    inplace = True)\n",
    "\n",
    "# Obtenemos el contorno de los municipios.\n",
    "gdf[\"boundary\"] = gdf.boundary\n",
    "\n",
    "# Obtenemos el centroide de los municipios\n",
    "# y separamos su latitud y longitud.\n",
    "gdf[\"centroid\"] = ( gdf.to_crs(\"epsg:6372\")\n",
    "    .centroid.to_crs(\"epsg:4326\") )\n",
    "gdf[\"lon\"] = gdf[\"centroid\"].x\n",
    "gdf[\"lat\"] = gdf[\"centroid\"].y"
   ]
  },
  {
   "cell_type": "code",
   "execution_count": 5,
   "metadata": {},
   "outputs": [],
   "source": [
    "# DataFrame para los datos actuales.\n",
    "\n",
    "# Columnas a retirar del GeoDataFrame.\n",
    "drop = [\"PERIMETER\", \"COV_\",\n",
    "    \"COV_ID\", \"geometry\", \"boundary\", \"centroid\"]\n",
    "\n",
    "# Columnas de variables explicativas.\n",
    "cols = [\"Consumo_1*\", \"Usuarios_1*\", \"Consumo_DAC\",\n",
    "    \"Usuarios_DAC\", \"Tarifa\", \"Tmax\", \"Tmin\",\n",
    "    \"Tmean\", \"Pre\", \"HDD_mean\", \"CDD_mean\",\n",
    "    \"HDD_p10\", \"CDD_p90\", \"Pre_Tmean\",\n",
    "    \"Poblacion\", \"PIB\", \"Tmin_max_2\", \"M_verano\",\n",
    "    \"Densidad_poblacion\", \"PCI\", \"$luz\", \"$GLP\"]\n",
    "    \n",
    "# Convertimos de GeoDataFrame a DataFrame. \n",
    "df_0 = pd.DataFrame(gdf.drop(drop, axis = 1))\n",
    "df_0[\"Año\"] = 2010\n",
    "df_0[cols] = np.nan\n",
    "\n",
    "# Agregamos una fila para cada año en cada municipio.\n",
    "df = df_0.copy()\n",
    "for i in range(2011, 2017):\n",
    "    df_0[\"Año\"] = i\n",
    "    df = df.append( df_0, ignore_index = True )\n",
    "df = df[ list(df.columns[0:5]) + cols[0:5]\n",
    "    + list(df.columns[6:8]) + cols[5:]\n",
    "    + list(df.columns[5:6])\n",
    "    + list(df.columns[8:9]) ]\n",
    "df.to_csv(path_r[0] + \"/data_0.csv\",\n",
    "    index = False, encoding = 'utf8' )"
   ]
  },
  {
   "cell_type": "code",
   "execution_count": 3,
   "metadata": {},
   "outputs": [],
   "source": [
    "# DataFrame para los datos futuros.\n",
    "\n",
    "# Columnas a retirar del GeoDataFrame.\n",
    "drop = [\"PERIMETER\", \"COV_\",\n",
    "    \"COV_ID\", \"geometry\", \"boundary\", \"centroid\"]\n",
    "\n",
    "# Columnas de variables explicativas.\n",
    "cols = [\"Consumo_1*\", \"Usuarios_1*\", \"Consumo_DAC\",\n",
    "    \"Usuarios_DAC\", \"Tarifa\", \"Tmax\", \"Tmin\",\n",
    "    \"Tmean\", \"Pre\", \"HDD_mean\", \"CDD_mean\",\n",
    "    \"HDD_p10\", \"CDD_p90\", \"Pre_Tmean\",\n",
    "    \"Poblacion\", \"PIB\", \"Tmin_max_2\", \"M_verano\",\n",
    "    \"Densidad_poblacion\", \"PCI\", \"$luz\", \"$GLP\"]\n",
    "\n",
    "# Convertimos de GeoDataFrame a DataFrame. \n",
    "df = pd.DataFrame(gdf.drop(drop, axis = 1))\n",
    "df[cols] = np.nan\n",
    "\n",
    "# Agregamos una fila para cada año en cada municipio.\n",
    "df = df[ list(df.columns[0:5]) + cols[0:5]\n",
    "        + list(df.columns[6:8]) + cols[5:]\n",
    "        + list(df.columns[5:6]) ]\n",
    "for f in fut:\n",
    "    df[\"Año\"] = f\n",
    "    for r in path_r[1:]:\n",
    "        df.to_csv( r + \"/data_0.\" + str(f) + \".csv\",\n",
    "            index = False, encoding = 'utf8' )"
   ]
  },
  {
   "cell_type": "code",
   "execution_count": null,
   "metadata": {},
   "outputs": [],
   "source": []
  }
 ],
 "metadata": {
  "interpreter": {
   "hash": "61e5a3f3aa95a130d195f400b073dbe78201ba87669bc387338808a06a837447"
  },
  "kernelspec": {
   "display_name": "Python 3.7.10 64-bit ('gv2': conda)",
   "name": "python3"
  },
  "language_info": {
   "codemirror_mode": {
    "name": "ipython",
    "version": 3
   },
   "file_extension": ".py",
   "mimetype": "text/x-python",
   "name": "python",
   "nbconvert_exporter": "python",
   "pygments_lexer": "ipython3",
   "version": "3.7.10"
  },
  "orig_nbformat": 4
 },
 "nbformat": 4,
 "nbformat_minor": 2
}
