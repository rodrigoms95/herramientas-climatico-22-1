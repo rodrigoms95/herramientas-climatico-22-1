{
 "cells": [
  {
   "cell_type": "code",
   "execution_count": 1,
   "metadata": {},
   "outputs": [],
   "source": [
    "# Guarda la información de cada municipio en un DataFrame.\n",
    "\n",
    "import pandas as pd\n",
    "import numpy as np\n",
    "\n",
    "import geopandas as gpd"
   ]
  },
  {
   "cell_type": "code",
   "execution_count": 16,
   "metadata": {},
   "outputs": [],
   "source": [
    "path_r = \"../../../resultados/RandomTree/\"\n",
    "path_shp = \"../../../datos/Mapas/Municipios/mun20gw.shp\"\n",
    "\n",
    "# Si no existe la carpeta, la crea.\n",
    "if not os.path.exists(path_r):\n",
    "    os.mkdir(path_r)\n",
    "\n",
    "# Cargamos los municipios.\n",
    "gdf = gpd.read_file( path_shp )\n",
    "\n",
    "# Obtenemos el contorno de los municipios.\n",
    "gdf[\"boundary\"] = gdf.boundary\n",
    "\n",
    "# Obtenemos el centroide de los municipios\n",
    "# y seraparamos su latitud y longitud.\n",
    "gdf[\"centroid\"] = ( gdf.to_crs(\"epsg:6372\")\n",
    "    .centroid.to_crs(\"epsg:4326\") )\n",
    "gdf[\"lon\"] = gdf[\"centroid\"].x\n",
    "gdf[\"lat\"] = gdf[\"centroid\"].y"
   ]
  },
  {
   "cell_type": "code",
   "execution_count": 17,
   "metadata": {},
   "outputs": [],
   "source": [
    "# Columnas a retirar del GeoDataFrame.\n",
    "drop = [\"CVEGEO\", \"CVE_ENT\", \"CVE_MUN\",\n",
    "    \"NOM_ENT\", \"NOM_MUN\", \"PERIMETER\", \"COV_\",\n",
    "    \"COV_ID\", \"geometry\", \"boundary\", \"centroid\"]\n",
    "\n",
    "# Columnas de variables explicativas.\n",
    "cols = [\"Consumo\", \"T_max\", \"T_min\", \"T_mean\",\n",
    "    \"HDD_mean\", \"CDD_mean\", \"HDD_p10\", \"CDD_p90\",\n",
    "    \"Pre\", \"Pre_T>Tmean\", \"Densidad_población\",\n",
    "    \"PCI\", \"$luz\", \"$GN\", \"$GLP\", \"Población\", \"PIB\"]\n",
    "\n",
    "# Convertimos de GeoDataGrame a DataFrame. \n",
    "df_0 = pd.DataFrame(gdf.drop(drop, axis = 1))\n",
    "df_0[\"Municipio\"] = df_0.index\n",
    "df_0[\"Año\"] = 1995\n",
    "df_0[cols] = np.nan\n",
    "\n",
    "# Agregamos una fila para cada año en cada municipio.\n",
    "df = df_0.copy()\n",
    "for i in range(1996, 2018):\n",
    "    df_0[\"Año\"] = i\n",
    "    df = df.append( df_0, ignore_index = True )\n",
    "df = df[[cols[0]] + list(df.columns[1:4])\n",
    "    + cols[1:] + [df.columns[4]] + [df.columns[0]]]"
   ]
  }
 ],
 "metadata": {
  "interpreter": {
   "hash": "61e5a3f3aa95a130d195f400b073dbe78201ba87669bc387338808a06a837447"
  },
  "kernelspec": {
   "display_name": "Python 3.7.10 64-bit ('gv2': conda)",
   "name": "python3"
  },
  "language_info": {
   "codemirror_mode": {
    "name": "ipython",
    "version": 3
   },
   "file_extension": ".py",
   "mimetype": "text/x-python",
   "name": "python",
   "nbconvert_exporter": "python",
   "pygments_lexer": "ipython3",
   "version": "3.7.10"
  },
  "orig_nbformat": 4
 },
 "nbformat": 4,
 "nbformat_minor": 2
}
