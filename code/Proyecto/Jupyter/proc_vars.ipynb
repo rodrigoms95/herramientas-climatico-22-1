{
 "cells": [
  {
   "cell_type": "code",
   "execution_count": 1,
   "metadata": {},
   "outputs": [],
   "source": [
    "# Obtiene una máscara para cada municipio del país.\n",
    "\n",
    "!pip install bottleneck\n",
    "\n",
    "import pandas as pd\n",
    "import numpy as np\n",
    "\n",
    "import xarray as xr\n",
    "\n",
    "from multiprocessing import Pool"
   ]
  },
  {
   "cell_type": "code",
   "execution_count": 27,
   "metadata": {},
   "outputs": [],
   "source": [
    "path_drive = \"/content/drive/MyDrive/Colab/\" \n",
    "path_data = path_drive + \"data/\"\n",
    "f_mask = \"municipios_mask.nc\"\n",
    "f_data = \"data_0.csv\"\n",
    "\n",
    "# Abrimos los archivos a utilizar.\n",
    "mask = xr.open_dataset( path_drive + f_mask )\n",
    "df = pd.read_csv( path_data + f_data )"
   ]
  },
  {
   "cell_type": "code",
   "execution_count": null,
   "metadata": {},
   "outputs": [],
   "source": [
    "# Procesa la variable para todos los años.\n",
    "def proc(year):\n",
    "    # Abrimos el netCDF del año y variable correspondiente.\n",
    "    with xr.open_dataset( path_d + var_2 + \"/mexico_\" \n",
    "        + var_2 + \".\" + str(year) + \".nc\" ) as ds:\n",
    "        # Establecemos np.nan como valor sin datos.\n",
    "        ds = ds.where(ds > -9000)\n",
    "        df_y = df[ df[\"Año\"] == year ].copy()\n",
    "        for i in range( df[\"Municipio\"].max() + 1 ):\n",
    "            # Obtenemos el promedio dentro de la máscara\n",
    "            # del municipio.\n",
    "            df_y.loc[ ( df[\"Municipio\"] == i ),\n",
    "                var_1 ] = ( ds.where(mask\n",
    "                .isel(municipio = i) == 1 )\n",
    "                .mean(dim = [\"lat\", \"lon\"])\n",
    "                .to_dataframe().mean()[0] )\n",
    "        return df_y"
   ]
  },
  {
   "cell_type": "code",
   "execution_count": null,
   "metadata": {},
   "outputs": [],
   "source": [
    "# Variables de CHIRTS y CHIRPS.\n",
    "vars = [\"Tmax\", \"Tmin\", \"Tmean\", \"Pre\"]\n",
    "\n",
    "# Variable a procesar, 0 - 8.\n",
    "n = 0\n",
    "m = 0\n",
    "var_1 =  df.columns[4:-9][n]\n",
    "var_2 = vars[m]\n",
    "\n",
    "if var_2 == \"Pre\":\n",
    "    folder = \"CHIRPS/\"\n",
    "else: folder = \"CHIRTS/\"\n",
    "\n",
    "# Dirección de las variables.\n",
    "path_d = path_drive + folder\n",
    "\n",
    "# Años a procesar.\n",
    "year = list(range(1995, 1996))\n",
    "\n",
    "# Procesamos los años en paralelo.\n",
    "pool = Pool()\n",
    "df_r = pool.map(proc, year)\n",
    "\n",
    "# Concatenamos los resultados de cada año.\n",
    "for f in df_r:\n",
    "    df.loc[df[\"Año\"] == f[\"Año\"].max() ] = f\n",
    "\n",
    "# Guardamos el resultado como un nuevo archivo.\n",
    "df.to_csv(path_data + \"data_\" + str(n + 1) + \".csv\")"
   ]
  }
 ],
 "metadata": {
  "interpreter": {
   "hash": "61e5a3f3aa95a130d195f400b073dbe78201ba87669bc387338808a06a837447"
  },
  "kernelspec": {
   "display_name": "Python 3.7.10 64-bit ('gv2': conda)",
   "name": "python3"
  },
  "language_info": {
   "codemirror_mode": {
    "name": "ipython",
    "version": 3
   },
   "file_extension": ".py",
   "mimetype": "text/x-python",
   "name": "python",
   "nbconvert_exporter": "python",
   "pygments_lexer": "ipython3",
   "version": "3.7.10"
  },
  "orig_nbformat": 4
 },
 "nbformat": 4,
 "nbformat_minor": 2
}
