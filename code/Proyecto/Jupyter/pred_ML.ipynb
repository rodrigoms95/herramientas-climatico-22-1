{
  "nbformat": 4,
  "nbformat_minor": 0,
  "metadata": {
    "orig_nbformat": 4,
    "colab": {
      "name": "pred_ML.ipynb",
      "provenance": []
    },
    "language_info": {
      "name": "python"
    },
    "kernelspec": {
      "name": "python3",
      "display_name": "Python 3"
    }
  },
  "cells": [
    {
      "cell_type": "code",
      "metadata": {
        "id": "hm6bW2fABMD3"
      },
      "source": [
        "# Usa un modelo de Gradient Boosted Trees\n",
        "# para predecir el consumo eléctrico\n",
        "# y la cantidad de usuarios.\n",
        "\n",
        "import pandas as pd\n",
        "import numpy as np\n",
        "\n",
        "import xgboost as xgb\n",
        "\n",
        "from joblib import load\n",
        "\n",
        "from sklearn.metrics import mean_squared_error, r2_score\n",
        "from sklearn.linear_model import LinearRegression\n",
        "from sklearn.model_selection import train_test_split\n",
        "from sklearn.model_selection import GridSearchCV"
      ],
      "execution_count": 1,
      "outputs": []
    },
    {
      "cell_type": "code",
      "metadata": {
        "id": "n6M5KRS5bAfL"
      },
      "source": [
        "# Datos.\n",
        "path_drive = \"/content/drive/MyDrive/Colab/Subsidio_electricidad/\" \n",
        "path_data = path_drive + \"data/\"\n",
        "fname = \"data.csv\"\n",
        "\n",
        "# Escenarios\n",
        "RCP = [\"RCP4p5\", \"RCP8p5\"]\n",
        "fut = [2030, 2050, 2070]\n",
        "\n",
        "# Directorios.\n",
        "#dirs = [\"Actual\"] + RCP\n",
        "dirs = [RCP[1]]\n",
        "csv = \".csv\"\n",
        "path_data = [path_drive + \"data/\" + x + \"/data.\" for x in dirs]\n",
        "f_path = []\n",
        "for p in path_data:\n",
        "    f_path += [p + str(x) + csv for x in fut]\n",
        "model_name = [\"reg_model_consumo.joblib\",\n",
        "    \"reg_model_usuarios.joblib\" ]\n",
        "\n",
        "# Cargamos los modelo entrenado.\n",
        "reg_model = [load(path_drive + model_name[0]),\n",
        "    load(path_drive + model_name[1]) ]"
      ],
      "execution_count": 2,
      "outputs": []
    },
    {
      "cell_type": "code",
      "metadata": {
        "id": "kIRzX0Upb3Bl"
      },
      "source": [
        "# Iteramos para todos los escenarios.\n",
        "for i in f_path:\n",
        "    data = pd.read_csv(i)\n",
        "    # Unimos las tarifas 1 y DAC.\n",
        "    data[\"Consumo_1*\"] += data[\"Consumo_DAC\"]\n",
        "    data[\"Usuarios_1*\"] += data[\"Usuarios_DAC\"]\n",
        "    data.drop([\"Consumo_DAC\", \"Usuarios_DAC\"],\n",
        "        axis = 1, inplace = True)\n",
        "\n",
        "    # Escogemos el conjunto de features para la predicción.\n",
        "    X = data[[\"Tmean\", \"CDD_mean\", \"Pre_Tmean\", \"$GLP\",\n",
        "        \"Poblacion\", \"PIB\", \"Año\", \"CVE_INEGI\"]].copy()\n",
        "    X.rename({\"Poblacion\": \"Población\",\n",
        "        \"Tmean\": \"T_mean\"}, axis = 1, inplace = True)\n",
        "\n",
        "    # Sacamos el logaritmo.\n",
        "    X[[\"Población\", \"PIB\"]] = np.log(\n",
        "        X[[\"Población\", \"PIB\"]])\n",
        "\n",
        "    # Hacemos la predicción con los modelos\n",
        "    data[\"Consumo_1*\"] = np.exp(reg_model[0].predict(X))\n",
        "    data[\"Usuarios_1*\"] = reg_model[1].predict(X)\n",
        "    \n",
        "    data.to_csv(i, index = False)"
      ],
      "execution_count": 13,
      "outputs": []
    }
  ]
}