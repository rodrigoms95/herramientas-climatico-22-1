{
 "cells": [
  {
   "cell_type": "code",
   "execution_count": 1,
   "metadata": {
    "vscode": {
     "languageId": "r"
    }
   },
   "outputs": [
    {
     "name": "stderr",
     "output_type": "stream",
     "text": [
      "Linking to GEOS 3.9.1, GDAL 3.2.3, PROJ 7.2.1; sf_use_s2() is TRUE\n",
      "\n",
      "Loading required package: sp\n",
      "\n",
      "Loading required package: spData\n",
      "\n"
     ]
    }
   ],
   "source": [
    "# Hace un análsis de autocorrelación espacial con el método de Moran para\n",
    "# todos los municipios.\n",
    "\n",
    "# Cargamos las librerías.\n",
    "library(sf)\n",
    "library(spdep)"
   ]
  },
  {
   "cell_type": "code",
   "execution_count": 2,
   "metadata": {
    "vscode": {
     "languageId": "r"
    }
   },
   "outputs": [
    {
     "name": "stdout",
     "output_type": "stream",
     "text": [
      "Reading layer `data' from data source \n",
      "  `/Users/rodrigo/Documents/Posgrado/Maestria/Semestre 1/Herramientas cambio climatico/herramientas-climatico-22-1/resultados/data/RCP8p5/data.2030' \n",
      "  using driver `ESRI Shapefile'\n",
      "Simple feature collection with 2469 features and 11 fields\n",
      "Geometry type: MULTIPOLYGON\n",
      "Dimension:     XY\n",
      "Bounding box:  xmin: -118.3651 ymin: 14.5321 xmax: -86.71041 ymax: 32.71865\n",
      "Geodetic CRS:  WGS 84\n"
     ]
    }
   ],
   "source": [
    "# Directorio\n",
    "path <- \"../../../resultados/data/RCP8p5/data.2030\"\n",
    "s <- st_read( path )"
   ]
  },
  {
   "cell_type": "code",
   "execution_count": 8,
   "metadata": {
    "vscode": {
     "languageId": "r"
    }
   },
   "outputs": [
    {
     "data": {
      "text/html": [
       "0.001"
      ],
      "text/latex": [
       "0.001"
      ],
      "text/markdown": [
       "0.001"
      ],
      "text/plain": [
       "[1] 0.001"
      ]
     },
     "metadata": {},
     "output_type": "display_data"
    },
    {
     "data": {
      "text/html": [
       "0.001"
      ],
      "text/latex": [
       "0.001"
      ],
      "text/markdown": [
       "0.001"
      ],
      "text/plain": [
       "[1] 0.001"
      ]
     },
     "metadata": {},
     "output_type": "display_data"
    }
   ],
   "source": [
    "# Creamos la lista de vecinos.\n",
    "# Método contiguo de reina.\n",
    "nb <- poly2nb( s, queen = TRUE )\n",
    "lw <- nb2listw( nb, style = \"W\", zero.policy = TRUE )\n",
    "# Prueba de hipótesis de Moran para Usuarios (Monte Carlo).\n",
    "MC_U <- moran.mc( s$Usuarios_1, lw, nsim = 999, alternative = \"greater\" )\n",
    "# Prueba de hipótesis de Moran para Consumo (Monte Carlo).\n",
    "MC_C <- moran.mc( s$Consumo_1., lw, nsim = 999, alternative = \"greater\" )\n",
    "\n",
    "MC_U$p.value\n",
    "MC_C$p.value"
   ]
  },
  {
   "cell_type": "code",
   "execution_count": 9,
   "metadata": {
    "vscode": {
     "languageId": "r"
    }
   },
   "outputs": [
    {
     "data": {
      "text/html": [
       "0.001"
      ],
      "text/latex": [
       "0.001"
      ],
      "text/markdown": [
       "0.001"
      ],
      "text/plain": [
       "[1] 0.001"
      ]
     },
     "metadata": {},
     "output_type": "display_data"
    },
    {
     "data": {
      "text/html": [
       "0.001"
      ],
      "text/latex": [
       "0.001"
      ],
      "text/markdown": [
       "0.001"
      ],
      "text/plain": [
       "[1] 0.001"
      ]
     },
     "metadata": {},
     "output_type": "display_data"
    }
   ],
   "source": [
    "# Creamos la lista de vecinos.\n",
    "# Método contiguo de torre.\n",
    "nb <- poly2nb( s, queen = FALSE )\n",
    "lw <- nb2listw( nb, style = \"W\", zero.policy = TRUE )\n",
    "# Prueba de hipótesis de Moran para Usuarios (Monte Carlo).\n",
    "MC_U <- moran.mc( s$Usuarios_1, lw, nsim = 999, alternative = \"greater\" )\n",
    "# Prueba de hipótesis de Moran para Consumo (Monte Carlo).\n",
    "MC_C <- moran.mc( s$Consumo_1., lw, nsim = 999, alternative = \"greater\" )\n",
    "\n",
    "MC_U$p.value\n",
    "MC_C$p.value"
   ]
  },
  {
   "cell_type": "code",
   "execution_count": 4,
   "metadata": {
    "vscode": {
     "languageId": "r"
    }
   },
   "outputs": [
    {
     "data": {
      "text/html": [
       "0.001"
      ],
      "text/latex": [
       "0.001"
      ],
      "text/markdown": [
       "0.001"
      ],
      "text/plain": [
       "[1] 0.001"
      ]
     },
     "metadata": {},
     "output_type": "display_data"
    },
    {
     "data": {
      "text/html": [
       "0.001"
      ],
      "text/latex": [
       "0.001"
      ],
      "text/markdown": [
       "0.001"
      ],
      "text/plain": [
       "[1] 0.001"
      ]
     },
     "metadata": {},
     "output_type": "display_data"
    }
   ],
   "source": [
    "# Creamos la lista de vecinos.\n",
    "# Método de k-neighbors = 1.\n",
    "coords <- coordinates( as( s, 'Spatial' ) )\n",
    "nb <- knn2nb( knearneigh( coords, k = 1 ) )\n",
    "lw <- nb2listw( nb, style = \"W\", zero.policy = TRUE )\n",
    "# Prueba de hipótesis de Moran para Usuarios (Monte Carlo).\n",
    "MC_U <- moran.mc( s$Usuarios_1, lw, nsim = 999, alternative = \"greater\" )\n",
    "# Prueba de hipótesis de Moran para Consumo (Monte Carlo).\n",
    "MC_C <- moran.mc( s$Consumo_1., lw, nsim = 999, alternative = \"greater\" )\n",
    "\n",
    "MC_U$p.value\n",
    "MC_C$p.value"
   ]
  },
  {
   "cell_type": "code",
   "execution_count": 5,
   "metadata": {
    "vscode": {
     "languageId": "r"
    }
   },
   "outputs": [
    {
     "data": {
      "text/html": [
       "0.001"
      ],
      "text/latex": [
       "0.001"
      ],
      "text/markdown": [
       "0.001"
      ],
      "text/plain": [
       "[1] 0.001"
      ]
     },
     "metadata": {},
     "output_type": "display_data"
    },
    {
     "data": {
      "text/html": [
       "0.001"
      ],
      "text/latex": [
       "0.001"
      ],
      "text/markdown": [
       "0.001"
      ],
      "text/plain": [
       "[1] 0.001"
      ]
     },
     "metadata": {},
     "output_type": "display_data"
    }
   ],
   "source": [
    "# Creamos la lista de vecinos.\n",
    "# Método de k-neighbors = 2.\n",
    "coords <- coordinates( as( s, 'Spatial' ) )\n",
    "nb <- knn2nb( knearneigh( coords, k = 2 ) )\n",
    "lw <- nb2listw( nb, style = \"W\", zero.policy = TRUE )\n",
    "# Prueba de hipótesis de Moran para Usuarios (Monte Carlo).\n",
    "MC_U <- moran.mc( s$Usuarios_1, lw, nsim = 999, alternative = \"greater\" )\n",
    "# Prueba de hipótesis de Moran para Consumo (Monte Carlo).\n",
    "MC_C <- moran.mc( s$Consumo_1., lw, nsim = 999, alternative = \"greater\" )\n",
    "\n",
    "MC_U$p.value\n",
    "MC_C$p.value"
   ]
  },
  {
   "cell_type": "code",
   "execution_count": 6,
   "metadata": {
    "vscode": {
     "languageId": "r"
    }
   },
   "outputs": [
    {
     "data": {
      "text/html": [
       "0.001"
      ],
      "text/latex": [
       "0.001"
      ],
      "text/markdown": [
       "0.001"
      ],
      "text/plain": [
       "[1] 0.001"
      ]
     },
     "metadata": {},
     "output_type": "display_data"
    },
    {
     "data": {
      "text/html": [
       "0.001"
      ],
      "text/latex": [
       "0.001"
      ],
      "text/markdown": [
       "0.001"
      ],
      "text/plain": [
       "[1] 0.001"
      ]
     },
     "metadata": {},
     "output_type": "display_data"
    }
   ],
   "source": [
    "# Creamos la lista de vecinos.\n",
    "# Método de k-neighbors = 3.\n",
    "coords <- coordinates( as( s, 'Spatial' ) )\n",
    "nb <- knn2nb( knearneigh( coords, k = 3 ) )\n",
    "lw <- nb2listw( nb, style = \"W\", zero.policy = TRUE )\n",
    "# Prueba de hipótesis de Moran para Usuarios (Monte Carlo).\n",
    "MC_U <- moran.mc( s$Usuarios_1, lw, nsim = 999, alternative = \"greater\" )\n",
    "# Prueba de hipótesis de Moran para Consumo (Monte Carlo).\n",
    "MC_C <- moran.mc( s$Consumo_1., lw, nsim = 999, alternative = \"greater\" )\n",
    "\n",
    "MC_U$p.value\n",
    "MC_C$p.value"
   ]
  },
  {
   "cell_type": "code",
   "execution_count": 7,
   "metadata": {
    "vscode": {
     "languageId": "r"
    }
   },
   "outputs": [
    {
     "data": {
      "text/html": [
       "0.001"
      ],
      "text/latex": [
       "0.001"
      ],
      "text/markdown": [
       "0.001"
      ],
      "text/plain": [
       "[1] 0.001"
      ]
     },
     "metadata": {},
     "output_type": "display_data"
    },
    {
     "data": {
      "text/html": [
       "0.001"
      ],
      "text/latex": [
       "0.001"
      ],
      "text/markdown": [
       "0.001"
      ],
      "text/plain": [
       "[1] 0.001"
      ]
     },
     "metadata": {},
     "output_type": "display_data"
    }
   ],
   "source": [
    "# Creamos la lista de vecinos.\n",
    "# Método de k-neighbors = 4.\n",
    "coords <- coordinates( as( s, 'Spatial' ) )\n",
    "nb <- knn2nb( knearneigh( coords, k = 4 ) )\n",
    "lw <- nb2listw( nb, style = \"W\", zero.policy = TRUE )\n",
    "# Prueba de hipótesis de Moran para Usuarios (Monte Carlo).\n",
    "MC_U <- moran.mc( s$Usuarios_1, lw, nsim = 999, alternative = \"greater\" )\n",
    "# Prueba de hipótesis de Moran para Consumo (Monte Carlo).\n",
    "MC_C <- moran.mc( s$Consumo_1., lw, nsim = 999, alternative = \"greater\" )\n",
    "\n",
    "MC_U$p.value\n",
    "MC_C$p.value"
   ]
  },
  {
   "cell_type": "code",
   "execution_count": 10,
   "metadata": {
    "vscode": {
     "languageId": "r"
    }
   },
   "outputs": [
    {
     "data": {
      "text/html": [
       "0.001"
      ],
      "text/latex": [
       "0.001"
      ],
      "text/markdown": [
       "0.001"
      ],
      "text/plain": [
       "[1] 0.001"
      ]
     },
     "metadata": {},
     "output_type": "display_data"
    },
    {
     "data": {
      "text/html": [
       "0.001"
      ],
      "text/latex": [
       "0.001"
      ],
      "text/markdown": [
       "0.001"
      ],
      "text/plain": [
       "[1] 0.001"
      ]
     },
     "metadata": {},
     "output_type": "display_data"
    }
   ],
   "source": [
    "# Creamos la lista de vecinos.\n",
    "# Método de k-neighbors = 5.\n",
    "coords <- coordinates( as( s, 'Spatial' ) )\n",
    "nb <- knn2nb( knearneigh( coords, k = 5 ) )\n",
    "lw <- nb2listw( nb, style = \"W\", zero.policy = TRUE )\n",
    "# Prueba de hipótesis de Moran para Usuarios (Monte Carlo).\n",
    "MC_U <- moran.mc( s$Usuarios_1, lw, nsim = 999, alternative = \"greater\" )\n",
    "# Prueba de hipótesis de Moran para Consumo (Monte Carlo).\n",
    "MC_C <- moran.mc( s$Consumo_1., lw, nsim = 999, alternative = \"greater\" )\n",
    "\n",
    "MC_U$p.value\n",
    "MC_C$p.value"
   ]
  }
 ],
 "metadata": {
  "kernelspec": {
   "display_name": "R",
   "language": "R",
   "name": "ir"
  },
  "language_info": {
   "codemirror_mode": "r",
   "file_extension": ".r",
   "mimetype": "text/x-r-source",
   "name": "R",
   "pygments_lexer": "r",
   "version": "4.1.2"
  },
  "orig_nbformat": 4
 },
 "nbformat": 4,
 "nbformat_minor": 2
}
