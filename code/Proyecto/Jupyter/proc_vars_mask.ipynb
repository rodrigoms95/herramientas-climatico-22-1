{
  "nbformat": 4,
  "nbformat_minor": 0,
  "metadata": {
    "colab": {
      "name": "proc_vars_mask.ipynb",
      "provenance": [],
      "collapsed_sections": [],
      "mount_file_id": "11WykkEO-K6RZZ3LmNK7MK8iQfnVEkaes",
      "authorship_tag": "ABX9TyMNyK7+1B0kU+t0fXvovQBs"
    },
    "kernelspec": {
      "name": "python3",
      "display_name": "Python 3"
    },
    "language_info": {
      "name": "python"
    }
  },
  "cells": [
    {
      "cell_type": "code",
      "metadata": {
        "colab": {
          "base_uri": "https://localhost:8080/"
        },
        "id": "VlbVXw0mIZkq",
        "outputId": "664298e6-c189-41b7-b8d7-cce43e226379"
      },
      "source": [
        "# Obtiene una máscara para cada municipio del país.\n",
        "\n",
        "!pip install bottleneck\n",
        "\n",
        "import pandas as pd\n",
        "import numpy as np\n",
        "\n",
        "import xarray as xr\n",
        "\n",
        "from multiprocessing import Pool"
      ],
      "execution_count": null,
      "outputs": [
        {
          "output_type": "stream",
          "name": "stdout",
          "text": [
            "Requirement already satisfied: bottleneck in /usr/local/lib/python3.7/dist-packages (1.3.2)\n",
            "Requirement already satisfied: numpy in /usr/local/lib/python3.7/dist-packages (from bottleneck) (1.19.5)\n"
          ]
        }
      ]
    },
    {
      "cell_type": "code",
      "metadata": {
        "id": "cLpaA9aHBUHM"
      },
      "source": [
        "# Procesa la variable para todos los años.\n",
        "def proc_mean(year):\n",
        "    # Abrimos el netCDF del año y variable correspondiente.\n",
        "    with xr.open_dataset( path_d[0] + var_2 + \"/mexico_\" \n",
        "        + var_2 + \".\" + str(year) + \".nc\" ) as ds:\n",
        "        # Establecemos np.nan como valor sin datos.\n",
        "        ds = ds.where(ds > -9000)\n",
        "        df_y = df[ df[\"Año\"] == year ].copy()\n",
        "        for i in range( df[\"Municipio\"].max() + 1 ):\n",
        "            # Obtenemos el promedio dentro de la máscara\n",
        "            # del municipio.\n",
        "            df_y.loc[ df[\"Municipio\"] == i,\n",
        "                var_1 ] = ( ds.where(mask\n",
        "                .isel(municipio = i) == 1 )\n",
        "                .mean(dim = [\"lat\", \"lon\"])\n",
        "                .to_dataframe().mean()[0] )\n",
        "        return df_y\n",
        "\n",
        "# Procesa la variable para todos los años.\n",
        "def proc_sum(year):\n",
        "    # Abrimos el netCDF del año y variable correspondiente.\n",
        "    with xr.open_dataset( path_d[0] + var_2 + \"/mexico_\" \n",
        "        + var_2 + \".\" + str(year) + \".nc\" ) as ds:\n",
        "        df_y = df[ df[\"Año\"] == year ].copy()\n",
        "        for i in range( df[\"Municipio\"].max() + 1 ):\n",
        "            # Obtenemos el promedio dentro de la máscara\n",
        "            # del municipio.\n",
        "            df_y.loc[ df[\"Municipio\"] == i,\n",
        "                var_1 ] = ( ds.where(mask\n",
        "                .isel(municipio = i) == 1 )\n",
        "                .mean(dim = [\"lat\", \"lon\"])\n",
        "                .to_dataframe().sum()[0] )\n",
        "        return df_y"
      ],
      "execution_count": null,
      "outputs": []
    },
    {
      "cell_type": "code",
      "metadata": {
        "id": "__hzvwwgzuUS"
      },
      "source": [
        "# Procesa la variable para todos los años.\n",
        "def proc_mean_f():\n",
        "    # Abrimos el netCDF del año y variable correspondiente.\n",
        "    with xr.open_dataset( path_d[k + 1] + var_2 + \"/mexico_\" \n",
        "        + var_2 + \".\" + str(f) + \".nc\" ) as ds:\n",
        "        # Establecemos np.nan como valor sin datos.\n",
        "        ds = ds.where(ds > -9000)\n",
        "        df_y = df.copy()\n",
        "        for i in range( df[\"Municipio\"].max() + 1 ):\n",
        "            # Obtenemos el promedio dentro de la máscara\n",
        "            # del municipio.\n",
        "            df_y.loc[ df[\"Municipio\"] == i,\n",
        "                var_1 ] = ( ds.where(mask\n",
        "                .isel(municipio = i) == 1 )\n",
        "                .mean(dim = [\"lat\", \"lon\"])\n",
        "                .to_dataframe().mean()[0] )\n",
        "        return df_y\n",
        "\n",
        "# Procesa la variable para todos los años.\n",
        "def proc_sum_f():\n",
        "    # Abrimos el netCDF del año y variable correspondiente.\n",
        "    with xr.open_dataset( path_d[k + 1] + var_2 + \"/mexico_\" \n",
        "        + var_2 + \".\" + str(f) + \".nc\" ) as ds:\n",
        "        df_y = df.copy()\n",
        "        for i in range( df[\"Municipio\"].max() + 1 ):\n",
        "            # Obtenemos el promedio dentro de la máscara\n",
        "            # del municipio.\n",
        "            df_y.loc[ df[\"Municipio\"] == i,\n",
        "                var_1 ] = ( ds.where(mask\n",
        "                .isel(municipio = i) == 1 )\n",
        "                .mean(dim = [\"lat\", \"lon\"])\n",
        "                .to_dataframe().sum()[0] )\n",
        "        return df_y"
      ],
      "execution_count": null,
      "outputs": []
    },
    {
      "cell_type": "code",
      "metadata": {
        "id": "agl__yX8xAra"
      },
      "source": [
        "path_drive = \"/content/drive/MyDrive/Colab/Subsidio_electricidad/\" \n",
        "\n",
        "RCP = [\"RCP4p5\", \"RCP8p5\"]\n",
        "fut = [2030, 2050, 2070]\n",
        "years = list(range(2010, 2017))\n",
        "\n",
        "# Directorios.\n",
        "dirs = [\"Actual\"] + RCP\n",
        "path_data = [path_drive + \"data/\" + x + \"/\" for x in dirs]\n",
        "folder = \"vars/\"\n",
        "path_d = [path_drive + x + \"/\" for x in dirs]\n",
        "\n",
        "# Variables de CHIRTS y CHIRPS.\n",
        "vars = [\"Tmax\", \"Tmin\", \"Tmean\", \"HDD_mean\", \n",
        "        \"CDD_mean\", \"HDD_p10\", \"CDD_p90\",\n",
        "        \"Pre\", \"Pre_Tmean\", \"Poblacion\", \"PIB\"]\n",
        "\n",
        "# Nombre de los archivos\n",
        "f_mask = \"municipios_mask.nc\"\n",
        "f_data = \"data_0.csv\"\n",
        "\n",
        "# Máscara para los municipios.\n",
        "mask = xr.open_dataset( path_drive + f_mask )"
      ],
      "execution_count": null,
      "outputs": []
    },
    {
      "cell_type": "code",
      "metadata": {
        "id": "p07FtjhLCBLi",
        "colab": {
          "base_uri": "https://localhost:8080/",
          "height": 350
        },
        "outputId": "ef234955-6746-4695-faba-5bdffefe1ec9"
      },
      "source": [
        "# Escenario a procesar, 0: presente, 1: futuro.\n",
        "e = 1\n",
        "\n",
        "# Variable a procesar, con e = 0, 0 - 8; con e = 1, 0 - 10.\n",
        "n = 0\n",
        "var_2 = vars[n]\n",
        "\n",
        "if var_2 in vars[3:7]:\n",
        "    mask = mask.rename_vars(mask = \"degree_day\")\n",
        "else:\n",
        "    mask = mask.rename_vars(mask = var_2)\n",
        "\n",
        "# Años a procesar.\n",
        "year = list(range(2010, 2017))\n",
        "\n",
        "# Procesamos los años en paralelo.\n",
        "pool = Pool()\n",
        "if e == 0:\n",
        "    # Abrimos los archivos a utilizar.\n",
        "    df = pd.read_csv( path_data[0] + f_data )\n",
        "    var_1 =  df.columns[4:-9][n]\n",
        "\n",
        "    if var_2 in vars[3:9]:\n",
        "        df_r = pool.map(proc_sum, year)\n",
        "    else:\n",
        "        df_r = pool.map(proc_mean, year)\n",
        "\n",
        "    # Concatenamos los resultados de cada año.\n",
        "    for p in df_r:\n",
        "        df.loc[df[\"Año\"] == p[\"Año\"].max() ] = p\n",
        "\n",
        "    # Guardamos el resultado como un nuevo archivo.\n",
        "    df.to_csv(path_data + \"data_\" + str(n + 1)\n",
        "        + \".csv\", index = False)\n",
        "else: \n",
        "    for d in range(len(path_d[1:])):\n",
        "        # Abrimos los archivos a utilizar.\n",
        "        df = pd.read_csv( path_data[k + 1] + f_data )\n",
        "        var_1 =  df.columns[4:-9][n]\n",
        "\n",
        "        for f in fut:\n",
        "            if var_2 in vars[3:9]:\n",
        "                df_r = pool.map(proc_sum)\n",
        "            else:\n",
        "                df_r = pool.map(proc_mean)\n",
        "\n",
        "            # Concatenamos los resultados de cada año.\n",
        "            for p in df_r:\n",
        "                df.loc[df[\"Año\"] == p[\"Año\"].max() ] = p\n",
        "\n",
        "            # Guardamos el resultado como un nuevo archivo.\n",
        "            df.to_csv(path_data[k + 1] + \"data_\" + str(n + 1)\n",
        "                  + \".\" + str(f) + \".csv\", index = False)"
      ],
      "execution_count": null,
      "outputs": [
        {
          "output_type": "error",
          "ename": "ValueError",
          "evalue": "ignored",
          "traceback": [
            "\u001b[0;31m---------------------------------------------------------------------------\u001b[0m",
            "\u001b[0;31mValueError\u001b[0m                                Traceback (most recent call last)",
            "\u001b[0;32m<ipython-input-11-8c31c70d78de>\u001b[0m in \u001b[0;36m<module>\u001b[0;34m()\u001b[0m\n\u001b[1;32m      9\u001b[0m     \u001b[0mmask\u001b[0m \u001b[0;34m=\u001b[0m \u001b[0mmask\u001b[0m\u001b[0;34m.\u001b[0m\u001b[0mrename_vars\u001b[0m\u001b[0;34m(\u001b[0m\u001b[0mmask\u001b[0m \u001b[0;34m=\u001b[0m \u001b[0;34m\"degree_day\"\u001b[0m\u001b[0;34m)\u001b[0m\u001b[0;34m\u001b[0m\u001b[0;34m\u001b[0m\u001b[0m\n\u001b[1;32m     10\u001b[0m \u001b[0;32melse\u001b[0m\u001b[0;34m:\u001b[0m\u001b[0;34m\u001b[0m\u001b[0;34m\u001b[0m\u001b[0m\n\u001b[0;32m---> 11\u001b[0;31m     \u001b[0mmask\u001b[0m \u001b[0;34m=\u001b[0m \u001b[0mmask\u001b[0m\u001b[0;34m.\u001b[0m\u001b[0mrename_vars\u001b[0m\u001b[0;34m(\u001b[0m\u001b[0mmask\u001b[0m \u001b[0;34m=\u001b[0m \u001b[0mvar_2\u001b[0m\u001b[0;34m)\u001b[0m\u001b[0;34m\u001b[0m\u001b[0;34m\u001b[0m\u001b[0m\n\u001b[0m\u001b[1;32m     12\u001b[0m \u001b[0;34m\u001b[0m\u001b[0m\n\u001b[1;32m     13\u001b[0m \u001b[0;31m# Años a procesar.\u001b[0m\u001b[0;34m\u001b[0m\u001b[0;34m\u001b[0m\u001b[0;34m\u001b[0m\u001b[0m\n",
            "\u001b[0;32m/usr/local/lib/python3.7/dist-packages/xarray/core/dataset.py\u001b[0m in \u001b[0;36mrename_vars\u001b[0;34m(self, name_dict, **names)\u001b[0m\n\u001b[1;32m   3329\u001b[0m             \u001b[0;32mif\u001b[0m \u001b[0mk\u001b[0m \u001b[0;32mnot\u001b[0m \u001b[0;32min\u001b[0m \u001b[0mself\u001b[0m\u001b[0;34m:\u001b[0m\u001b[0;34m\u001b[0m\u001b[0;34m\u001b[0m\u001b[0m\n\u001b[1;32m   3330\u001b[0m                 raise ValueError(\n\u001b[0;32m-> 3331\u001b[0;31m                     \u001b[0;34mf\"cannot rename {k!r} because it is not a \"\u001b[0m\u001b[0;34m\u001b[0m\u001b[0;34m\u001b[0m\u001b[0m\n\u001b[0m\u001b[1;32m   3332\u001b[0m                     \u001b[0;34m\"variable or coordinate in this dataset\"\u001b[0m\u001b[0;34m\u001b[0m\u001b[0;34m\u001b[0m\u001b[0m\n\u001b[1;32m   3333\u001b[0m                 )\n",
            "\u001b[0;31mValueError\u001b[0m: cannot rename 'mask' because it is not a variable or coordinate in this dataset"
          ]
        }
      ]
    }
  ]
}