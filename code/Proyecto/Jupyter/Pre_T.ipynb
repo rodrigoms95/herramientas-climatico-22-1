{
 "cells": [
  {
   "cell_type": "code",
   "execution_count": 1,
   "metadata": {},
   "outputs": [],
   "source": [
    "# Calcula la precipitación en días\n",
    "# con temperatura media mayor a la\n",
    "# media climatológica.\n",
    "\n",
    "import os\n",
    "\n",
    "import xarray as xr"
   ]
  },
  {
   "cell_type": "code",
   "execution_count": 5,
   "metadata": {},
   "outputs": [],
   "source": [
    "path = \"../../../resultados/\" \n",
    "\n",
    "CHIRPS = \"../../../datos/CHIRPS/\"\n",
    "CHIRTS =  \"../../../resultados/CHIRTS/\"\n",
    "\n",
    "RCP = [\"RCP4p5\", \"RCP8p5\"]\n",
    "fut = [2030, 2050, 2070]\n",
    "years = list(range(2010, 2017))\n",
    "\n",
    "dirs = [\"Actual\"] + RCP\n",
    "path_d = [path + \"vars/\" + x + \"/\" for x in dirs]\n",
    "\n",
    "# Variables de CHIRTS/CHIRPS.\n",
    "vars = [\"Tmax\", \"Tmin\", \"Tmean\",\n",
    "    \"Pre\", \"Pre_Tmean\"]\n",
    "\n",
    "# Si no existen las carpetas, las crea.\n",
    "for p in path_d:\n",
    "    if not os.path.exists(p):\n",
    "        os.mkdir(p)\n",
    "    if not os.path.exists(p + vars[4]):\n",
    "        os.mkdir(p + vars[4])"
   ]
  },
  {
   "cell_type": "code",
   "execution_count": 7,
   "metadata": {},
   "outputs": [],
   "source": [
    "# Calculamos Pre_Tmean actual.\n",
    "\n",
    "k = 0\n",
    "\n",
    "ds_T = xr.open_dataset(path_d[k]\n",
    "    + \"mexico_Tmean_yearly.nc\"\n",
    "    ).rename(Tmean = \"Pre\")\n",
    "\n",
    "for j in years:\n",
    "    # Abrimos la temperatura media anual.\n",
    "    with xr.open_dataset( CHIRTS +\n",
    "        vars[2] + \"/mexico_\" + vars[2]\n",
    "        + \".\" + str(j) + \".nc\"\n",
    "        ).rename(Tmean = \"Pre\")  as ds_mean:\n",
    "        # Abrimos la precipitación.\n",
    "        with xr.open_dataset( CHIRPS + \"/mexico_\" +\n",
    "            vars[3] + \".\" + str(j) + \".nc\" ) as ds_pre:\n",
    "            # Establecemos np.nan como valor sin datos.\n",
    "            ds_pre = ds_pre.where(ds_pre > -9000)\n",
    "            # Quitamos los puntos donde la temperatura\n",
    "            # es menor a la media climatológica.\n",
    "            ds_pre = ds_pre.where( ds_mean > ds_T )\n",
    "    \n",
    "        # Guardamos el archivo.\n",
    "        ds_pre = ds_pre.rename(Pre = vars[4])\n",
    "        ds_pre.mean(\"time\").to_netcdf( path_d[k]\n",
    "            + vars[4] + \"/mexico_\" \n",
    "            + vars[4] + \".\" +\n",
    "            str(j) + \"_yearly.nc\")"
   ]
  },
  {
   "cell_type": "code",
   "execution_count": 12,
   "metadata": {},
   "outputs": [],
   "source": [
    "# Calculamos Pre_Tmean futuro.\n",
    "\n",
    "# Repetimos el cálculo para cada RCP.\n",
    "for k in range(1, 3):\n",
    "    # Repetimos el cálculo para cada año.\n",
    "    for f in fut:\n",
    "        ds_T = xr.open_dataset( path_d[k] +\n",
    "            vars[2] + \"/mexico_Tmean.\" +\n",
    "            str(f) + \"_yearly.nc\"\n",
    "            ).rename(Tmean = \"Pre\")\n",
    "\n",
    "        # Abrimos la temperatura media.\n",
    "        with xr.open_dataset( path_d[k] +\n",
    "            vars[2] + \"/mexico_\" + vars[2]\n",
    "            + \".\" + str(f) + \"_daily.nc\"\n",
    "            ).rename(Tmean = \"Pre\") as ds_mean:\n",
    "            # Abrimos la precipitación.\n",
    "            with xr.open_dataset( path_d[k] +\n",
    "                vars[3] + \"/mexico_\" + vars[3] + \".\"\n",
    "                + str(f) + \"_daily.nc\" ) as ds_pre:\n",
    "                # Establecemos np.nan como valor sin datos.\n",
    "                ds_pre = ds_pre.where(ds_pre > -9000)\n",
    "                # Quitamos los puntos donde la temperatura\n",
    "                # es menor a la media climatológica.\n",
    "                ds_pre = ds_pre.where( ds_mean > ds_T )\n",
    "    \n",
    "            # Guardamos el archivo.\n",
    "            ds_pre = ds_pre.rename(Pre = vars[4])\n",
    "            ds_pre.mean(\"time\").to_netcdf( path_d[k]\n",
    "                + vars[4] + \"/mexico_\" + vars[4]\n",
    "                + \".\" + str(f) + \"_yearly.nc\" )"
   ]
  }
 ],
 "metadata": {
  "interpreter": {
   "hash": "61e5a3f3aa95a130d195f400b073dbe78201ba87669bc387338808a06a837447"
  },
  "kernelspec": {
   "display_name": "Python 3.7.10 64-bit ('gv2': conda)",
   "name": "python3"
  },
  "language_info": {
   "codemirror_mode": {
    "name": "ipython",
    "version": 3
   },
   "file_extension": ".py",
   "mimetype": "text/x-python",
   "name": "python",
   "nbconvert_exporter": "python",
   "pygments_lexer": "ipython3",
   "version": "3.7.10"
  },
  "orig_nbformat": 4
 },
 "nbformat": 4,
 "nbformat_minor": 2
}
