{
 "cells": [
  {
   "cell_type": "code",
   "execution_count": 1,
   "metadata": {},
   "outputs": [],
   "source": [
    "# Calcula la precipitación en días\n",
    "# con temperatura media mayor a la\n",
    "# media climatológica.\n",
    "\n",
    "import os\n",
    "\n",
    "import xarray as xr"
   ]
  },
  {
   "cell_type": "code",
   "execution_count": 2,
   "metadata": {},
   "outputs": [],
   "source": [
    "path_drive = \"/content/drive/MyDrive/Colab/\" \n",
    "\n",
    "path_T = path_drive + \"CHIRTS/\"\n",
    "path_P = path_drive + \"CHIRPS/\"\n",
    "path_r = path_drive + \"vars/\"\n",
    "\n",
    "# Variables de CHIRTS/CHIRPS.\n",
    "vars = [\"Tmax\", \"Tmin\", \"Tmean\",\n",
    "    \"Pre\", \"Pre_Tmean\"]\n",
    "\n",
    "# Si no existen las carpetas, las crea.\n",
    "if not os.path.exists(path_r):\n",
    "    os.mkdir(path_r)\n",
    "if not os.path.exists(path_r + vars[4]):\n",
    "    os.mkdir(path_r + vars[4])"
   ]
  },
  {
   "cell_type": "code",
   "execution_count": 24,
   "metadata": {},
   "outputs": [],
   "source": [
    "years = list(range(2010, 2017))\n",
    "\n",
    "ds_T = ( xr.open_dataset(path_T + \"mexico_Tmean.nc\")\n",
    "        .rename(Tmean = \"Pre\") )\n",
    "\n",
    "for j in years:\n",
    "    # Abrimos la media anual\n",
    "    with ( xr.open_dataset( path_T + vars[2] + \"/mexico_\" \n",
    "        + vars[2] + \".\" + str(j) + \".nc\" )\n",
    "        .rename(Tmean = \"Pre\") ) as ds_mean:\n",
    "        with xr.open_dataset( path_P +  vars[3] + \"/mexico_\" +\n",
    "            vars[3] + \".\" + str(j) + \".nc\" ) as ds_pre:\n",
    "            # Establecemos np.nan como valor sin datos.\n",
    "            ds_pre = ds_pre.where(ds_pre > -9000)\n",
    "            # Quitamos los puntos donde la temperatura\n",
    "            # es menor a la media climatológica.\n",
    "            ds_pre = ds_pre.where( ds_mean > ds_T )\n",
    "    \n",
    "        # Guardamos el archivo.\n",
    "        ds_pre = ds_pre.rename(Pre = vars[4])\n",
    "        ds_pre.to_netcdf( path_r + vars[4] + \"/mexico_\" \n",
    "        + vars[4] + \".\" + str(j) + \".nc\")"
   ]
  }
 ],
 "metadata": {
  "interpreter": {
   "hash": "61e5a3f3aa95a130d195f400b073dbe78201ba87669bc387338808a06a837447"
  },
  "kernelspec": {
   "display_name": "Python 3.7.10 64-bit ('gv2': conda)",
   "name": "python3"
  },
  "language_info": {
   "codemirror_mode": {
    "name": "ipython",
    "version": 3
   },
   "file_extension": ".py",
   "mimetype": "text/x-python",
   "name": "python",
   "nbconvert_exporter": "python",
   "pygments_lexer": "ipython3",
   "version": "3.7.10"
  },
  "orig_nbformat": 4
 },
 "nbformat": 4,
 "nbformat_minor": 2
}
