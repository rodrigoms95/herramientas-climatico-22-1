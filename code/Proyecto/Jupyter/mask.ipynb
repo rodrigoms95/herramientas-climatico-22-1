{
 "cells": [
  {
   "cell_type": "code",
   "execution_count": 1,
   "metadata": {},
   "outputs": [],
   "source": [
    "# Obtiene una máscara para cada municipio del país.\n",
    "\n",
    "import os\n",
    "\n",
    "import rioxarray\n",
    "\n",
    "import pandas as pd\n",
    "import numpy as np\n",
    "\n",
    "import geopandas as gpd\n",
    "import xarray as xr"
   ]
  },
  {
   "cell_type": "code",
   "execution_count": 2,
   "metadata": {},
   "outputs": [],
   "source": [
    "vars = [\"Tmax\", \"Tmin\", \"Tmean\", \"Pre\"]\n",
    "\n",
    "path = \"/content/drive/MyDrive/Colab/Subsidio_electricidad/\"\n",
    "\n",
    "path_pre = path + \"vars/Actual/\"\n",
    "path_r = path + \"Municipios/\"\n",
    "path_shp = path + \"Municipios/Mapas/mun20gw.shp\"\n",
    "\n",
    "# Si no existe la carpeta, la crea.\n",
    "if not os.path.exists(path_r):\n",
    "    os.mkdir(path_r)\n",
    "\n",
    "# Se cargan los municipios.\n",
    "gdf = gpd.read_file( path_shp )\n",
    "\n",
    "# Se obtiene el contorno de los municipios.\n",
    "gdf[\"boundary\"] = gdf.boundary\n",
    "\n",
    "# Renombramos la columna que identifica cada \n",
    "# municipio con el valor único de INEGI.\n",
    "gdf.rename(columns = {\n",
    "    \"CVEGEO\": \"CVE_INEGI\"},\n",
    "    inplace = True)"
   ]
  },
  {
   "cell_type": "code",
   "execution_count": 3,
   "metadata": {},
   "outputs": [
    {
     "ename": "MemoryError",
     "evalue": "Unable to allocate 644. MiB for an array with shape (1, 365, 364, 635) and data type float64",
     "output_type": "error",
     "traceback": [
      "\u001b[1;31m---------------------------------------------------------------------------\u001b[0m",
      "\u001b[1;31mMemoryError\u001b[0m                               Traceback (most recent call last)",
      "\u001b[1;32m~\\AppData\\Local\\Temp/ipykernel_7096/3823516462.py\u001b[0m in \u001b[0;36m<module>\u001b[1;34m\u001b[0m\n\u001b[0;32m     22\u001b[0m     mask.append( mask_0.rio.clip(\n\u001b[0;32m     23\u001b[0m         \u001b[0mgdf\u001b[0m\u001b[1;33m[\u001b[0m\u001b[0mgdf\u001b[0m\u001b[1;33m.\u001b[0m\u001b[0mindex\u001b[0m \u001b[1;33m==\u001b[0m \u001b[0mi\u001b[0m\u001b[1;33m]\u001b[0m\u001b[1;33m.\u001b[0m\u001b[0mgeometry\u001b[0m\u001b[1;33m,\u001b[0m\u001b[1;33m\u001b[0m\u001b[1;33m\u001b[0m\u001b[0m\n\u001b[1;32m---> 24\u001b[1;33m         gdf.crs, drop=False, invert=False) )\n\u001b[0m\u001b[0;32m     25\u001b[0m \u001b[1;33m\u001b[0m\u001b[0m\n\u001b[0;32m     26\u001b[0m \u001b[1;31m# Para los municipios en los que no cae ningún\u001b[0m\u001b[1;33m\u001b[0m\u001b[1;33m\u001b[0m\u001b[1;33m\u001b[0m\u001b[0m\n",
      "\u001b[1;32m~\\anaconda3\\envs\\gv2\\lib\\site-packages\\rioxarray\\raster_dataset.py\u001b[0m in \u001b[0;36mclip\u001b[1;34m(self, geometries, crs, all_touched, drop, invert, from_disk)\u001b[0m\n\u001b[0;32m    346\u001b[0m                         \u001b[0mdrop\u001b[0m\u001b[1;33m=\u001b[0m\u001b[0mdrop\u001b[0m\u001b[1;33m,\u001b[0m\u001b[1;33m\u001b[0m\u001b[1;33m\u001b[0m\u001b[0m\n\u001b[0;32m    347\u001b[0m                         \u001b[0minvert\u001b[0m\u001b[1;33m=\u001b[0m\u001b[0minvert\u001b[0m\u001b[1;33m,\u001b[0m\u001b[1;33m\u001b[0m\u001b[1;33m\u001b[0m\u001b[0m\n\u001b[1;32m--> 348\u001b[1;33m                         \u001b[0mfrom_disk\u001b[0m\u001b[1;33m=\u001b[0m\u001b[0mfrom_disk\u001b[0m\u001b[1;33m,\u001b[0m\u001b[1;33m\u001b[0m\u001b[1;33m\u001b[0m\u001b[0m\n\u001b[0m\u001b[0;32m    349\u001b[0m                     )\n\u001b[0;32m    350\u001b[0m                 )\n",
      "\u001b[1;32m~\\anaconda3\\envs\\gv2\\lib\\site-packages\\rioxarray\\raster_array.py\u001b[0m in \u001b[0;36mclip\u001b[1;34m(self, geometries, crs, all_touched, drop, invert, from_disk)\u001b[0m\n\u001b[0;32m    780\u001b[0m                 \u001b[0mall_touched\u001b[0m\u001b[1;33m=\u001b[0m\u001b[0mall_touched\u001b[0m\u001b[1;33m,\u001b[0m\u001b[1;33m\u001b[0m\u001b[1;33m\u001b[0m\u001b[0m\n\u001b[0;32m    781\u001b[0m                 \u001b[0mdrop\u001b[0m\u001b[1;33m=\u001b[0m\u001b[0mdrop\u001b[0m\u001b[1;33m,\u001b[0m\u001b[1;33m\u001b[0m\u001b[1;33m\u001b[0m\u001b[0m\n\u001b[1;32m--> 782\u001b[1;33m                 \u001b[0minvert\u001b[0m\u001b[1;33m=\u001b[0m\u001b[0minvert\u001b[0m\u001b[1;33m,\u001b[0m\u001b[1;33m\u001b[0m\u001b[1;33m\u001b[0m\u001b[0m\n\u001b[0m\u001b[0;32m    783\u001b[0m             )\n\u001b[0;32m    784\u001b[0m \u001b[1;33m\u001b[0m\u001b[0m\n",
      "\u001b[1;32m~\\anaconda3\\envs\\gv2\\lib\\site-packages\\rioxarray\\raster_array.py\u001b[0m in \u001b[0;36m_clip_xarray\u001b[1;34m(xds, geometries, all_touched, drop, invert)\u001b[0m\n\u001b[0;32m    195\u001b[0m         \u001b[0mcropped_ds\u001b[0m \u001b[1;33m=\u001b[0m \u001b[0mcropped_ds\u001b[0m\u001b[1;33m.\u001b[0m\u001b[0mfillna\u001b[0m\u001b[1;33m(\u001b[0m\u001b[0mxds\u001b[0m\u001b[1;33m.\u001b[0m\u001b[0mrio\u001b[0m\u001b[1;33m.\u001b[0m\u001b[0mnodata\u001b[0m\u001b[1;33m)\u001b[0m\u001b[1;33m\u001b[0m\u001b[1;33m\u001b[0m\u001b[0m\n\u001b[0;32m    196\u001b[0m \u001b[1;33m\u001b[0m\u001b[0m\n\u001b[1;32m--> 197\u001b[1;33m     \u001b[1;32mreturn\u001b[0m \u001b[0mcropped_ds\u001b[0m\u001b[1;33m.\u001b[0m\u001b[0mastype\u001b[0m\u001b[1;33m(\u001b[0m\u001b[0mxds\u001b[0m\u001b[1;33m.\u001b[0m\u001b[0mdtype\u001b[0m\u001b[1;33m)\u001b[0m\u001b[1;33m\u001b[0m\u001b[1;33m\u001b[0m\u001b[0m\n\u001b[0m\u001b[0;32m    198\u001b[0m \u001b[1;33m\u001b[0m\u001b[0m\n\u001b[0;32m    199\u001b[0m \u001b[1;33m\u001b[0m\u001b[0m\n",
      "\u001b[1;32m~\\anaconda3\\envs\\gv2\\lib\\site-packages\\xarray\\core\\common.py\u001b[0m in \u001b[0;36mastype\u001b[1;34m(self, dtype, order, casting, subok, copy, keep_attrs)\u001b[0m\n\u001b[0;32m   1503\u001b[0m             \u001b[0mkwargs\u001b[0m\u001b[1;33m=\u001b[0m\u001b[0mkwargs\u001b[0m\u001b[1;33m,\u001b[0m\u001b[1;33m\u001b[0m\u001b[1;33m\u001b[0m\u001b[0m\n\u001b[0;32m   1504\u001b[0m             \u001b[0mkeep_attrs\u001b[0m\u001b[1;33m=\u001b[0m\u001b[0mkeep_attrs\u001b[0m\u001b[1;33m,\u001b[0m\u001b[1;33m\u001b[0m\u001b[1;33m\u001b[0m\u001b[0m\n\u001b[1;32m-> 1505\u001b[1;33m             \u001b[0mdask\u001b[0m\u001b[1;33m=\u001b[0m\u001b[1;34m\"allowed\"\u001b[0m\u001b[1;33m,\u001b[0m\u001b[1;33m\u001b[0m\u001b[1;33m\u001b[0m\u001b[0m\n\u001b[0m\u001b[0;32m   1506\u001b[0m         )\n\u001b[0;32m   1507\u001b[0m \u001b[1;33m\u001b[0m\u001b[0m\n",
      "\u001b[1;32m~\\anaconda3\\envs\\gv2\\lib\\site-packages\\xarray\\core\\computation.py\u001b[0m in \u001b[0;36mapply_ufunc\u001b[1;34m(func, input_core_dims, output_core_dims, exclude_dims, vectorize, join, dataset_join, dataset_fill_value, keep_attrs, kwargs, dask, output_dtypes, output_sizes, meta, dask_gufunc_kwargs, *args)\u001b[0m\n\u001b[0;32m   1178\u001b[0m             \u001b[0mjoin\u001b[0m\u001b[1;33m=\u001b[0m\u001b[0mjoin\u001b[0m\u001b[1;33m,\u001b[0m\u001b[1;33m\u001b[0m\u001b[1;33m\u001b[0m\u001b[0m\n\u001b[0;32m   1179\u001b[0m             \u001b[0mexclude_dims\u001b[0m\u001b[1;33m=\u001b[0m\u001b[0mexclude_dims\u001b[0m\u001b[1;33m,\u001b[0m\u001b[1;33m\u001b[0m\u001b[1;33m\u001b[0m\u001b[0m\n\u001b[1;32m-> 1180\u001b[1;33m             \u001b[0mkeep_attrs\u001b[0m\u001b[1;33m=\u001b[0m\u001b[0mkeep_attrs\u001b[0m\u001b[1;33m,\u001b[0m\u001b[1;33m\u001b[0m\u001b[1;33m\u001b[0m\u001b[0m\n\u001b[0m\u001b[0;32m   1181\u001b[0m         )\n\u001b[0;32m   1182\u001b[0m     \u001b[1;31m# feed Variables directly through apply_variable_ufunc\u001b[0m\u001b[1;33m\u001b[0m\u001b[1;33m\u001b[0m\u001b[1;33m\u001b[0m\u001b[0m\n",
      "\u001b[1;32m~\\anaconda3\\envs\\gv2\\lib\\site-packages\\xarray\\core\\computation.py\u001b[0m in \u001b[0;36mapply_dataarray_vfunc\u001b[1;34m(func, signature, join, exclude_dims, keep_attrs, *args)\u001b[0m\n\u001b[0;32m    291\u001b[0m \u001b[1;33m\u001b[0m\u001b[0m\n\u001b[0;32m    292\u001b[0m     \u001b[0mdata_vars\u001b[0m \u001b[1;33m=\u001b[0m \u001b[1;33m[\u001b[0m\u001b[0mgetattr\u001b[0m\u001b[1;33m(\u001b[0m\u001b[0ma\u001b[0m\u001b[1;33m,\u001b[0m \u001b[1;34m\"variable\"\u001b[0m\u001b[1;33m,\u001b[0m \u001b[0ma\u001b[0m\u001b[1;33m)\u001b[0m \u001b[1;32mfor\u001b[0m \u001b[0ma\u001b[0m \u001b[1;32min\u001b[0m \u001b[0margs\u001b[0m\u001b[1;33m]\u001b[0m\u001b[1;33m\u001b[0m\u001b[1;33m\u001b[0m\u001b[0m\n\u001b[1;32m--> 293\u001b[1;33m     \u001b[0mresult_var\u001b[0m \u001b[1;33m=\u001b[0m \u001b[0mfunc\u001b[0m\u001b[1;33m(\u001b[0m\u001b[1;33m*\u001b[0m\u001b[0mdata_vars\u001b[0m\u001b[1;33m)\u001b[0m\u001b[1;33m\u001b[0m\u001b[1;33m\u001b[0m\u001b[0m\n\u001b[0m\u001b[0;32m    294\u001b[0m \u001b[1;33m\u001b[0m\u001b[0m\n\u001b[0;32m    295\u001b[0m     \u001b[1;32mif\u001b[0m \u001b[0msignature\u001b[0m\u001b[1;33m.\u001b[0m\u001b[0mnum_outputs\u001b[0m \u001b[1;33m>\u001b[0m \u001b[1;36m1\u001b[0m\u001b[1;33m:\u001b[0m\u001b[1;33m\u001b[0m\u001b[1;33m\u001b[0m\u001b[0m\n",
      "\u001b[1;32m~\\anaconda3\\envs\\gv2\\lib\\site-packages\\xarray\\core\\computation.py\u001b[0m in \u001b[0;36mapply_variable_ufunc\u001b[1;34m(func, signature, exclude_dims, dask, output_dtypes, vectorize, keep_attrs, dask_gufunc_kwargs, *args)\u001b[0m\n\u001b[0;32m    740\u001b[0m             )\n\u001b[0;32m    741\u001b[0m \u001b[1;33m\u001b[0m\u001b[0m\n\u001b[1;32m--> 742\u001b[1;33m     \u001b[0mresult_data\u001b[0m \u001b[1;33m=\u001b[0m \u001b[0mfunc\u001b[0m\u001b[1;33m(\u001b[0m\u001b[1;33m*\u001b[0m\u001b[0minput_data\u001b[0m\u001b[1;33m)\u001b[0m\u001b[1;33m\u001b[0m\u001b[1;33m\u001b[0m\u001b[0m\n\u001b[0m\u001b[0;32m    743\u001b[0m \u001b[1;33m\u001b[0m\u001b[0m\n\u001b[0;32m    744\u001b[0m     \u001b[1;32mif\u001b[0m \u001b[0msignature\u001b[0m\u001b[1;33m.\u001b[0m\u001b[0mnum_outputs\u001b[0m \u001b[1;33m==\u001b[0m \u001b[1;36m1\u001b[0m\u001b[1;33m:\u001b[0m\u001b[1;33m\u001b[0m\u001b[1;33m\u001b[0m\u001b[0m\n",
      "\u001b[1;32m~\\anaconda3\\envs\\gv2\\lib\\site-packages\\xarray\\core\\duck_array_ops.py\u001b[0m in \u001b[0;36mastype\u001b[1;34m(data, dtype, **kwargs)\u001b[0m\n\u001b[0;32m    185\u001b[0m         \u001b[0mkwargs\u001b[0m\u001b[1;33m.\u001b[0m\u001b[0mpop\u001b[0m\u001b[1;33m(\u001b[0m\u001b[1;34m\"casting\"\u001b[0m\u001b[1;33m)\u001b[0m\u001b[1;33m\u001b[0m\u001b[1;33m\u001b[0m\u001b[0m\n\u001b[0;32m    186\u001b[0m \u001b[1;33m\u001b[0m\u001b[0m\n\u001b[1;32m--> 187\u001b[1;33m     \u001b[1;32mreturn\u001b[0m \u001b[0mdata\u001b[0m\u001b[1;33m.\u001b[0m\u001b[0mastype\u001b[0m\u001b[1;33m(\u001b[0m\u001b[0mdtype\u001b[0m\u001b[1;33m,\u001b[0m \u001b[1;33m**\u001b[0m\u001b[0mkwargs\u001b[0m\u001b[1;33m)\u001b[0m\u001b[1;33m\u001b[0m\u001b[1;33m\u001b[0m\u001b[0m\n\u001b[0m\u001b[0;32m    188\u001b[0m \u001b[1;33m\u001b[0m\u001b[0m\n\u001b[0;32m    189\u001b[0m \u001b[1;33m\u001b[0m\u001b[0m\n",
      "\u001b[1;31mMemoryError\u001b[0m: Unable to allocate 644. MiB for an array with shape (1, 365, 364, 635) and data type float64"
     ]
    }
   ],
   "source": [
    "# Abrimos el netCDF para el cual se hará la \n",
    "# máscara de acuerdo con su resolución.\n",
    "ds = xr.open_dataset( path_pre +\n",
    "    \"/mexico_\" + vars[3] + \".nc\" )\n",
    "# Establecemos np.nan como valor sin datos.\n",
    "ds = ds.where(ds > -9000)\n",
    "# Se establece el datum de los datos.\n",
    "ds = ds.rio.write_crs(gdf.crs)\n",
    "\n",
    "# Se hace un Dataset con unos para todo el país.\n",
    "mask_0 = ( ds.where(ds.isnull(), 1)\n",
    "    .expand_dims(dim = \"CVE_INEGI\") )\n",
    "\n",
    "# La lista que contra los Datasets la \n",
    "# máscara para cada municipio.\n",
    "mask = []\n",
    "\n",
    "# Se hace la máscara para cada municipio.\n",
    "for i in range(gdf.shape[0]):\n",
    "    mask.append( mask_0.rio.clip(\n",
    "        gdf[gdf.index == i].geometry,\n",
    "        gdf.crs, drop=False, invert=False) )\n",
    "\n",
    "# Para los municipios en los que no cae ningún\n",
    "# punto, se relajan las condiciones para\n",
    "# considerar cualquier punto que toque.\n",
    "for i in range(len(mask)):\n",
    "    if ( mask[i].where(mask[i] > -9000)\n",
    "        .drop(\"spatial_ref\")\n",
    "        .to_dataframe().mean()[0] \n",
    "        ) != 1:\n",
    "        \n",
    "        mask[i] = mask_0.rio.clip(\n",
    "        gdf[gdf.index == i].geometry,\n",
    "        gdf.crs, all_touched = True, \n",
    "        drop=False, invert=False)\n",
    "\n",
    "for i in range(len(mask)):\n",
    "    if ( mask[i].where(mask[i] > -9000)\n",
    "        .drop(\"spatial_ref\")\n",
    "        .to_dataframe().mean()[0] \n",
    "        ) != 1:\n",
    "        print(i)\n",
    "\n",
    "# Se unen las máscaras para todos los municipios.\n",
    "mask = ( xr.concat(mask, dim = \"CVE_INEGI\")\n",
    "    .drop(\"spatial_ref\")\n",
    "    .rename(Pre = \"mask\") )\n",
    "mask[\"CVE_INEGI\"] = ( gdf[\"CVE_INEGI\"]\n",
    "    .astype(int).array )\n",
    "mask = mask.where(mask > -9000)\n",
    "mask.to_netcdf(path_r + \"municipios_mask.nc\")"
   ]
  }
 ],
 "metadata": {
  "interpreter": {
   "hash": "61e5a3f3aa95a130d195f400b073dbe78201ba87669bc387338808a06a837447"
  },
  "kernelspec": {
   "display_name": "Python 3.7.10 64-bit ('gv2': conda)",
   "name": "python3"
  },
  "language_info": {
   "codemirror_mode": {
    "name": "ipython",
    "version": 3
   },
   "file_extension": ".py",
   "mimetype": "text/x-python",
   "name": "python",
   "nbconvert_exporter": "python",
   "pygments_lexer": "ipython3",
   "version": "3.7.10"
  },
  "orig_nbformat": 4
 },
 "nbformat": 4,
 "nbformat_minor": 2
}
