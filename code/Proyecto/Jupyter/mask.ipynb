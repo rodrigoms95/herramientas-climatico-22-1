{
 "cells": [
  {
   "cell_type": "code",
   "execution_count": 1,
   "metadata": {},
   "outputs": [],
   "source": [
    "# Obtiene una máscara para cada municipio del país.\n",
    "\n",
    "import rioxarray\n",
    "\n",
    "import pandas as pd\n",
    "import numpy as np\n",
    "\n",
    "import geopandas as gpd\n",
    "import xarray as xr"
   ]
  },
  {
   "cell_type": "code",
   "execution_count": 2,
   "metadata": {},
   "outputs": [],
   "source": [
    "vars = [\"Tmax\", \"Tmin\"]\n",
    "\n",
    "path_d = \"../../../resultados/CHIRTS/\"\n",
    "path_r = \"../../../resultados/Municipios/\"\n",
    "path_shp = \"../../../datos/Mapas/Municipios/mun20gw.shp\"\n",
    "\n",
    "# Si no existe la carpeta, la crea.\n",
    "if not os.path.exists(path_r):\n",
    "    os.mkdir(path_r)\n",
    "\n",
    "# Abrimos el netCDF para el cuál se hará la \n",
    "# máscara de acuerdo con su resolución.\n",
    "ds = xr.open_dataset( path_d + vars[0]\n",
    "    + \"/mexico_\" + vars[0] + \".1995.nc\" )\n",
    "# Establecemos np.nan como valor sin datos.\n",
    "ds = ds.where(ds > -9000)"
   ]
  },
  {
   "cell_type": "code",
   "execution_count": 3,
   "metadata": {},
   "outputs": [],
   "source": [
    "# Se cargan los municipios.\n",
    "gdf = gpd.read_file( path_shp )\n",
    "\n",
    "# Se obtiene el contorno de los municiipios.\n",
    "gdf[\"boundary\"] = gdf.boundary\n",
    "gdf[\"Tmax_1995\"] = np.nan\n",
    "\n",
    "# Se establece el datum de los datos.\n",
    "ds = ds.rio.write_crs(gdf.crs)"
   ]
  },
  {
   "cell_type": "code",
   "execution_count": 4,
   "metadata": {},
   "outputs": [],
   "source": [
    "# Se hace un Dataset con unos para todo el país\n",
    "mask_0 = xr.ones_like( ds.isel(time = 0)\n",
    "    .drop([\"time\", \"spatial_ref\"])\n",
    "    .expand_dims(dim = \"municipio\"),\n",
    "    dtype = int ).rio.write_crs(gdf.crs)\n",
    "\n",
    "# La lista que contra los Datasets la \n",
    "# máscara para cada municipio.\n",
    "mask = []\n",
    "\n",
    "# Se hace la máscara para cada municipio.\n",
    "for i in range(gdf.shape[0]):\n",
    "    mask.append( mask_0.rio.clip(\n",
    "        gdf[gdf.index == i].geometry,\n",
    "        gdf.crs, drop=False, invert=False) )\n",
    "\n",
    "# Se unen las máscaras para todos los municipios.\n",
    "mask = ( xr.concat(mask, dim = \"municipio\")\n",
    "    .drop(\"spatial_ref\") )\n",
    "mask = mask.where(mask > -9000)"
   ]
  }
 ],
 "metadata": {
  "interpreter": {
   "hash": "61e5a3f3aa95a130d195f400b073dbe78201ba87669bc387338808a06a837447"
  },
  "kernelspec": {
   "display_name": "Python 3.7.10 64-bit ('gv2': conda)",
   "name": "python3"
  },
  "language_info": {
   "codemirror_mode": {
    "name": "ipython",
    "version": 3
   },
   "file_extension": ".py",
   "mimetype": "text/x-python",
   "name": "python",
   "nbconvert_exporter": "python",
   "pygments_lexer": "ipython3",
   "version": "3.7.10"
  },
  "orig_nbformat": 4
 },
 "nbformat": 4,
 "nbformat_minor": 2
}
