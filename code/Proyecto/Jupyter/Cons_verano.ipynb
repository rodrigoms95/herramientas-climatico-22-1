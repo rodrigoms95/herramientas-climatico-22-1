{
 "cells": [
  {
   "cell_type": "code",
   "execution_count": 186,
   "metadata": {},
   "outputs": [],
   "source": [
    "# Calcula el porcentaje de consumo mensual\n",
    "# por entidad y el porcentaje que\n",
    "# corresponde a periodos de 6 meses.\n",
    "\n",
    "import os\n",
    "\n",
    "import pandas as pd\n",
    "import numpy as np"
   ]
  },
  {
   "cell_type": "code",
   "execution_count": 187,
   "metadata": {},
   "outputs": [],
   "source": [
    "path = \"../../../datos/\"\n",
    "\n",
    "path_d = path + \"CFE/\"\n",
    "fname = \"Consumo_mensual_nacional.csv\"\n",
    "\n",
    "df_0 = pd.read_csv(path_d + fname)\n",
    "df_0.set_index( \"CVE_ENT\", inplace = True)\n",
    "\n",
    "# Convertimos de texto a fecha.\n",
    "df = df_0.drop(columns = \"NOM_ENT\").transpose()\n",
    "df.index = pd.to_datetime(df.index,\n",
    "    format = \"%y-%b\")\n",
    "\n",
    "# Calculamos el consumo total anual.\n",
    "df_y = df.groupby(df.index.year).sum()\n",
    "\n",
    "# Calculamos el porcentaje mensual.\n",
    "for i in df.itertuples():\n",
    "    df.loc[i[0]] = ( i[1:] / df_y.loc[\n",
    "        df_y.index == i[0].year].iloc[0] )\n",
    "\n",
    "# Guardamos el porcentaje mensual.\n",
    "df.transpose().reset_index().to_csv( \n",
    "    path_d + \"Porcentaje_mensual.csv\",\n",
    "    index = False )"
   ]
  },
  {
   "cell_type": "code",
   "execution_count": 193,
   "metadata": {},
   "outputs": [],
   "source": [
    "df_i = []\n",
    "\n",
    "for j in range(2, 6):\n",
    "    # Escoge 6 meses consecutivos.\n",
    "    df_i.append( df[ df.index.month.isin(\n",
    "        range( j, j + 6 ) ) ] )\n",
    "    # Suma los 6 meses consecutivos.\n",
    "    df_i[j - 2] = df_i[j - 2].groupby(\n",
    "        df_i[j - 2].index.year).sum()\n",
    "    # Hace que la entidad y el año sean columnas.\n",
    "    df_i[j - 2] = ( df_i[j - 2].transpose()\n",
    "        .reset_index().melt( id_vars = \"CVE_ENT\",\n",
    "        var_name = \"Año\", value_name = j ) )\n",
    "    # Crea una columna con valor único para el merge.\n",
    "    df_i[j - 2].reset_index(inplace = True)\n",
    "\n",
    "# Une todas las tablas.\n",
    "df_p = df_i[0]\n",
    "for j in range(3, 6):\n",
    "    df_i[j - 2].drop(columns = [\"CVE_ENT\", \"Año\"], inplace = True)\n",
    "    df_p = pd.merge(df_p, df_i[j - 2], on = \"index\")\n",
    "\n",
    "# Quita la columna con valor único.\n",
    "df_p.drop(columns = \"index\", inplace = True)\n",
    "\n",
    "# Calcula el porcentaje promedio.\n",
    "df_mean = df_p.groupby(\"CVE_ENT\").mean().reset_index()\n",
    "df_mean[\"Año\"] = \"mean\"\n",
    "df_p = df_p.append(df_mean)\n",
    "\n",
    "df_p.reset_index().to_csv( path_d\n",
    "    + \"Porcentaje_verano.csv\",\n",
    "    index = False )"
   ]
  }
 ],
 "metadata": {
  "interpreter": {
   "hash": "61e5a3f3aa95a130d195f400b073dbe78201ba87669bc387338808a06a837447"
  },
  "kernelspec": {
   "display_name": "Python 3.7.10 64-bit ('gv2': conda)",
   "language": "python",
   "name": "python3"
  },
  "language_info": {
   "codemirror_mode": {
    "name": "ipython",
    "version": 3
   },
   "file_extension": ".py",
   "mimetype": "text/x-python",
   "name": "python",
   "nbconvert_exporter": "python",
   "pygments_lexer": "ipython3",
   "version": "3.7.10"
  },
  "orig_nbformat": 4
 },
 "nbformat": 4,
 "nbformat_minor": 2
}
