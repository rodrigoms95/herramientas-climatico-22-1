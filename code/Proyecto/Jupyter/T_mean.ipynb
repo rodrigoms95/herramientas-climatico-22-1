{
 "cells": [
  {
   "cell_type": "code",
   "execution_count": 1,
   "metadata": {},
   "outputs": [],
   "source": [
    "# Calcula la temperatura media anual.\n",
    "\n",
    "import os\n",
    "\n",
    "import pandas as pd\n",
    "import numpy as np\n",
    "\n",
    "import xarray as xr"
   ]
  },
  {
   "cell_type": "code",
   "execution_count": 2,
   "metadata": {},
   "outputs": [],
   "source": [
    "path_d = \"../../../resultados/CHIRTS/\"\n",
    "\n",
    "# Variables de CHIRTS.\n",
    "vars = [\"Tmax\", \"Tmin\", \"Tmean\"]\n",
    "\n",
    "# Si no existe la carpeta, la crea.\n",
    "if not os.path.exists(path_d):\n",
    "    os.mkdir(path_d)"
   ]
  },
  {
   "cell_type": "code",
   "execution_count": 23,
   "metadata": {},
   "outputs": [],
   "source": [
    "# Creamos un Dataset sobre el que concatenaremos\n",
    "# las temperaturas medias anuales.\n",
    "with xr.open_dataset( path_d + vars[0] + \"/mexico_\" \n",
    "    + vars[0] + \".1995.nc\" ) as ds_max:\n",
    "    # Creamos un Dataset con las dimensiones\n",
    "    # adecuadas y un solo tiempo.\n",
    "    ds = xr.ones_like(\n",
    "        ds_max.mean(dim = \"time\")\n",
    "        .assign_coords({\"time\": np.datetime64(\"1994\")} )\n",
    "        ).rename_vars(Tmax = vars[2])\n",
    "\n",
    "\n",
    "# Calculamos la temperatura media anual.\n",
    "for j in range(1995, 2017):\n",
    "    # Si no existe la carpeta, la crea.\n",
    "    if not os.path.exists(path_d + vars[2]):\n",
    "        os.mkdir(path_d + vars[2])\n",
    "    \n",
    "    # Abrimos la temperatura máxima.\n",
    "    with xr.open_dataset( path_d + vars[0] + \"/mexico_\" \n",
    "        + vars[0] + \".\" + str(j) + \".nc\" ) as ds_max:\n",
    "        # Establecemos np.nan como valor sin datos.\n",
    "        ds_max = ds_max.where(ds_max > -9000)\n",
    "        with xr.open_dataset( path_d + vars[1] + \"/mexico_\" \n",
    "            + vars[1] + \".\" + str(j) + \".nc\" ) as ds_min:\n",
    "            ds_min = ds_min.where(ds_min > -9000)\n",
    "        \n",
    "        ds_mean = ( ( ( ds_max + (ds_min\n",
    "            .rename_vars(Tmin = vars[0])) ) / 2 )\n",
    "            .rename_vars(Tmax = vars[2]) )\n",
    "        ds_mean.to_netcdf(path_d + vars[2] + \"/mexico_\" \n",
    "            + vars[2] + \".\" + str(j) + \".nc\" )\n",
    "\n",
    "        # Concatenamos las temperaturas medias.\n",
    "        ds = xr.concat( [ds, ( ds_mean\n",
    "            .mean(dim = \"time\")\n",
    "            .assign_coords({\"time\": np.datetime64(str(j))} )\n",
    "            ) ], dim = \"time\" )\n",
    "    \n",
    "# Eliminamos el primer valor de tiempo,\n",
    "# que solo sirvió como base para concatenar.\n",
    "ds = ds.drop_sel(time = \"1994\")\n",
    "\n",
    "# Guardamos el archivo.\n",
    "ds.to_netcdf(path_d + \"mexico_\" + vars[-1] + \".nc\")"
   ]
  }
 ],
 "metadata": {
  "interpreter": {
   "hash": "61e5a3f3aa95a130d195f400b073dbe78201ba87669bc387338808a06a837447"
  },
  "kernelspec": {
   "display_name": "Python 3.7.10 64-bit ('gv2': conda)",
   "name": "python3"
  },
  "language_info": {
   "codemirror_mode": {
    "name": "ipython",
    "version": 3
   },
   "file_extension": ".py",
   "mimetype": "text/x-python",
   "name": "python",
   "nbconvert_exporter": "python",
   "pygments_lexer": "ipython3",
   "version": "3.7.10"
  },
  "orig_nbformat": 4
 },
 "nbformat": 4,
 "nbformat_minor": 2
}
