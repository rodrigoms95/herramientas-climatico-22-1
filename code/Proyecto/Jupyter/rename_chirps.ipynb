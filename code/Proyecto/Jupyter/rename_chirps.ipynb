{
 "cells": [
  {
   "cell_type": "code",
   "execution_count": null,
   "metadata": {},
   "outputs": [],
   "source": [
    "# Renombra los archivos y variables de CHIRPS.\n",
    "\n",
    "import os\n",
    "import xarray as xr"
   ]
  },
  {
   "cell_type": "code",
   "execution_count": null,
   "metadata": {},
   "outputs": [],
   "source": [
    "path = os.getcwd() + \"/datos/CHIRPS/\"\n",
    "path_mask = ( os.getcwd() +\n",
    "    \"/resultados/Municipios/municipios_mask.nc\" )\n",
    "files = os.listdir(path)\n",
    "\n",
    "# Cargamos la máscara para alinear los archivos.\n",
    "mask = ( xr.open_dataset(path_mask)\n",
    "    .isel(municipio = 0).rename(mask = \"Pre\") )\n",
    "\n",
    "for i in files:\n",
    "    with xr.open_dataset(path + i) as ds:\n",
    "        # Renombrar variables.\n",
    "        ds = ds.rename({\"latitude\": \"lat\",\n",
    "            \"longitude\": \"lon\", \"precip\": \"Pre\"})\n",
    "        # Alinear con mask.\n",
    "        ds = ds.interp_like(mask)\n",
    "        # Guardar y renombrar archivos.\n",
    "        ds.to_netcdf( path + i[:7] + \"Pre\"\n",
    "            + i[18:23] + i[-3:] )\n",
    "    os.remove(path + i)"
   ]
  }
 ],
 "metadata": {
  "interpreter": {
   "hash": "61e5a3f3aa95a130d195f400b073dbe78201ba87669bc387338808a06a837447"
  },
  "kernelspec": {
   "display_name": "Python 3.7.10 64-bit ('gv2': conda)",
   "name": "python3"
  },
  "language_info": {
   "codemirror_mode": {
    "name": "ipython",
    "version": 3
   },
   "file_extension": ".py",
   "mimetype": "text/x-python",
   "name": "python",
   "nbconvert_exporter": "python",
   "pygments_lexer": "ipython3",
   "version": "3.7.10"
  },
  "orig_nbformat": 4
 },
 "nbformat": 4,
 "nbformat_minor": 2
}
