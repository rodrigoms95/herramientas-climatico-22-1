{
 "cells": [
  {
   "cell_type": "code",
   "execution_count": 1,
   "source": [
    "# Concatenación de GeoTIFFs de CHIRTS\r\n",
    "# por año y conversión a NetCDF.\r\n",
    "\r\n",
    "import os\r\n",
    "\r\n",
    "import numpy as np\r\n",
    "import xarray as xr"
   ],
   "outputs": [],
   "metadata": {}
  },
  {
   "cell_type": "code",
   "execution_count": 70,
   "source": [
    "fname = \"mexico_Tmax.1995.01.01.tif.nc\"\r\n",
    "\r\n",
    "vars = [\"Tmax/\", \"Tmin/\"]\r\n",
    "\r\n",
    "path_d = \"../../../datos/CHIRTS/\"\r\n",
    "path_r = \"../../../resultados/CHIRTS/\"\r\n",
    "\r\n",
    "# Si no existe la carpeta, la crea.\r\n",
    "if not os.path.exists(path_r):\r\n",
    "        os.mkdir(path_r)\r\n",
    "for T in vars:\r\n",
    "    if not os.path.exists(path_r + T):\r\n",
    "        os.mkdir(path_r + T)"
   ],
   "outputs": [],
   "metadata": {}
  },
  {
   "cell_type": "code",
   "execution_count": 71,
   "source": [
    "# Preprocesamiento de cada archivo, donde se agrega la\r\n",
    "# dimensión temporal de acuerdo al nombre del archivo.\r\n",
    "\r\n",
    "var = \"Band1\"\r\n",
    "Range = [-17, -7]\r\n",
    "\r\n",
    "def pre(ds):\r\n",
    "    ds = ( ds.expand_dims(time =  [np.datetime64(\r\n",
    "        ( ds[var].encoding[\"source\"]\r\n",
    "        [Range[0]:Range[1]].replace(\".\", \"-\")\r\n",
    "        ), \"ns\") ] )\r\n",
    "       .rename_vars({\"Band1\": \"Tmax\"} ) )\r\n",
    "    return ds\r\n",
    "\r\n",
    "# Se obtiene el promedio mensual para cada conjunto de datos.\r\n",
    "for T in vars:\r\n",
    "    # Se enlistan los años que se tienen para cada variable.\r\n",
    "    files = os.listdir(path_d + T)\r\n",
    "\r\n",
    "    for i, value in enumerate(files[0:]): \r\n",
    "        # Se cargan y concatenan todos los archivos correspondientes\r\n",
    "        # para cada subcarpeta de año y cada variable.\r\n",
    "        ds = xr.open_mfdataset(\r\n",
    "            path_d + T + \"/\" + str(value) + \"\\*.nc\",\r\n",
    "            combine = \"nested\", concat_dim = \"time\",\r\n",
    "            parallel = True, preprocess = pre\r\n",
    "            )\r\n",
    "        # Se guarda el archivo en formato NetCDF.\r\n",
    "        ds.to_netcdf(path_r + T + \"/\"\r\n",
    "            + \"mexico_Tmax.\" + str(value) + \".nc\")"
   ],
   "outputs": [],
   "metadata": {}
  }
 ],
 "metadata": {
  "orig_nbformat": 4,
  "language_info": {
   "name": "python",
   "version": "3.7.10",
   "mimetype": "text/x-python",
   "codemirror_mode": {
    "name": "ipython",
    "version": 3
   },
   "pygments_lexer": "ipython3",
   "nbconvert_exporter": "python",
   "file_extension": ".py"
  },
  "kernelspec": {
   "name": "python3",
   "display_name": "Python 3.7.10 64-bit ('gv2': conda)"
  },
  "interpreter": {
   "hash": "61e5a3f3aa95a130d195f400b073dbe78201ba87669bc387338808a06a837447"
  }
 },
 "nbformat": 4,
 "nbformat_minor": 2
}