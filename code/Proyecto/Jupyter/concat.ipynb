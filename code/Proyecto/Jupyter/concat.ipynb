{
 "cells": [
  {
   "cell_type": "code",
   "execution_count": 1,
   "metadata": {},
   "outputs": [],
   "source": [
    "# Concatenación de GeoTIFFs de CHIRTS\n",
    "# por año y conversión a NetCDF.\n",
    "\n",
    "import os\n",
    "\n",
    "import numpy as np\n",
    "import xarray as xr"
   ]
  },
  {
   "cell_type": "code",
   "execution_count": 2,
   "metadata": {},
   "outputs": [],
   "source": [
    "vars = [\"Tmax\", \"Tmin\"]\n",
    "\n",
    "path_d = \"../../../datos/CHIRTS/\"\n",
    "path_r = \"../../../resultados/CHIRTS/\"\n",
    "\n",
    "# Si no existe la carpeta, la crea.\n",
    "if not os.path.exists(path_r):\n",
    "        os.mkdir(path_r)\n",
    "for T in vars:\n",
    "    if not os.path.exists(path_r + T):\n",
    "        os.mkdir(path_r + T)"
   ]
  },
  {
   "cell_type": "code",
   "execution_count": 15,
   "metadata": {},
   "outputs": [],
   "source": [
    "# Preprocesamiento de cada archivo, donde se agrega la\n",
    "# dimensión temporal de acuerdo al nombre del archivo.\n",
    "\n",
    "var = \"Band1\"\n",
    "Range = [-17, -7]\n",
    "\n",
    "def pre(ds):\n",
    "    ds = ( ds.expand_dims(time =  [np.datetime64(\n",
    "        ( ds[var].encoding[\"source\"]\n",
    "        [Range[0]:Range[1]].replace(\".\", \"-\")\n",
    "        ), \"ns\") ] )\n",
    "       .rename_vars({\"Band1\": T} ) )\n",
    "    return ds\n",
    "\n",
    "# Se obtiene el promedio mensual para cada conjunto de datos.\n",
    "for T in vars:\n",
    "    # Se enlistan los años que se tienen para cada variable.\n",
    "    files = os.listdir(path_d + T)\n",
    "\n",
    "    for i, value in enumerate(files[0:]): \n",
    "        # Se cargan y concatenan todos los archivos correspondientes\n",
    "        # para cada subcarpeta de año y cada variable.\n",
    "        ds = xr.open_mfdataset(\n",
    "            path_d + T + \"/\" + str(value) + \"/*.nc\",\n",
    "            combine = \"nested\", concat_dim = \"time\",\n",
    "            parallel = True, preprocess = pre\n",
    "            )\n",
    "        # Se guarda el archivo en formato NetCDF.\n",
    "        ds.to_netcdf(path_r + T + \"/\"\n",
    "            + \"mexico_\" + T + \".\" + str(value) + \".nc\")"
   ]
  }
 ],
 "metadata": {
  "interpreter": {
   "hash": "61e5a3f3aa95a130d195f400b073dbe78201ba87669bc387338808a06a837447"
  },
  "kernelspec": {
   "display_name": "Python 3.7.10 64-bit ('gv2': conda)",
   "name": "python3"
  },
  "language_info": {
   "codemirror_mode": {
    "name": "ipython",
    "version": 3
   },
   "file_extension": ".py",
   "mimetype": "text/x-python",
   "name": "python",
   "nbconvert_exporter": "python",
   "pygments_lexer": "ipython3",
   "version": "3.7.10"
  },
  "orig_nbformat": 4
 },
 "nbformat": 4,
 "nbformat_minor": 2
}
