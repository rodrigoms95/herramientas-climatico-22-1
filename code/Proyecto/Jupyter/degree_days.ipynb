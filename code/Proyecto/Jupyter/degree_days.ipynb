{
 "cells": [
  {
   "cell_type": "code",
   "execution_count": 1,
   "metadata": {},
   "outputs": [],
   "source": [
    "# Calcula la temperatura media anual.\n",
    "\n",
    "import os\n",
    "\n",
    "import pandas as pd\n",
    "import numpy as np\n",
    "\n",
    "import xarray as xr\n",
    "\n",
    "from scipy import integrate"
   ]
  },
  {
   "cell_type": "code",
   "execution_count": 2,
   "metadata": {},
   "outputs": [],
   "source": [
    "path_d = \"../../../resultados/CHIRTS/\"\n",
    "path_r = \"../../../resultados/vars/\"\n",
    "\n",
    "# Variables de CHIRTS.\n",
    "vars = [\"Tmax\", \"Tmin\", \"Tmean\"]\n",
    "\n",
    "# Si no existe la carpeta, la crea.\n",
    "if not os.path.exists(path_r):\n",
    "    os.mkdir(path_r)"
   ]
  },
  {
   "cell_type": "code",
   "execution_count": 6,
   "metadata": {},
   "outputs": [],
   "source": [
    "varname = [\"CDD_mean\", \"HDD_mean\"]\n",
    "\n",
    "clim_mean = xr.open_dataset(path_d + \"mexico_\"\n",
    "    + vars[2] + \".nc\").rename(Tmean = \"degree_day\")\n",
    "\n",
    "# Si no existen las carpeta, las crea.\n",
    "if not os.path.exists(path_r + varname[0]):\n",
    "    os.mkdir(path_r + varname[0])\n",
    "if not os.path.exists(path_r + varname[1]):\n",
    "    os.mkdir(path_r + varname[1])\n",
    "\n",
    "for j in range(2010, 2017):\n",
    "    with ( xr.open_dataset( path_d + vars[2] + \"/mexico_\" \n",
    "        + vars[2] + \".\" + str(j) + \".nc\" )\n",
    "        .rename(Tmean = \"degree_day\") ) as ds_mean:\n",
    "        # Establecemos np.nan como valor sin datos.\n",
    "        ds_mean = ds_mean.where(ds_mean > -9000)\n",
    "        ds = ds_mean - clim_mean\n",
    "\n",
    "    ds_CDD = ds.where(ds >= 0)\n",
    "    ds_CDD.to_netcdf(path_r + varname[0] + \"/mexico_\" \n",
    "        + varname[0] + \".\" + str(j) + \".nc\" )\n",
    "    ds_HDD = ds.where(ds <= 0)\n",
    "    ds_HDD.to_netcdf(path_r + varname[1] + \"/mexico_\" \n",
    "        + varname[1] + \".\" + str(j) + \".nc\" )"
   ]
  },
  {
   "cell_type": "code",
   "execution_count": 7,
   "metadata": {},
   "outputs": [],
   "source": [
    "varname = \"CDD_p90\"\n",
    "\n",
    "clim_mean = xr.open_dataset(path_d + \"mexico_\"\n",
    "    + vars[0] + \".nc\").rename(Tmean = \"degree_day\")\n",
    "\n",
    "# Si no existe la carpeta, la crea.\n",
    "if not os.path.exists(path_r + varname):\n",
    "    os.mkdir(path_r + varname)\n",
    "\n",
    "for j in range(2010, 2017):\n",
    "    with ( xr.open_dataset( path_d + vars[2] + \"/mexico_\" \n",
    "        + vars[2] + \".\" + str(j) + \".nc\" )\n",
    "        .rename(Tmean = \"degree_day\") ) as ds_mean:\n",
    "        # Establecemos np.nan como valor sin datos.\n",
    "        ds_mean = ds_mean.where(ds_mean > -9000)\n",
    "        ds = ds_mean - clim_mean\n",
    "\n",
    "    ds_CDD = ds.where(ds >= 0)\n",
    "    ds_CDD.to_netcdf(path_r + varname + \"/mexico_\" \n",
    "        + varname + \".\" + str(j) + \".nc\" )"
   ]
  },
  {
   "cell_type": "code",
   "execution_count": null,
   "metadata": {},
   "outputs": [],
   "source": [
    "varname = \"HDD_p10\"\n",
    "\n",
    "clim_mean = xr.open_dataset(path_d + \"mexico_\"\n",
    "    + vars[1] + \".nc\").rename(Tmean = \"degree_day\")\n",
    "\n",
    "# Si no existe la carpeta, la crea.\n",
    "if not os.path.exists(path_r + varname):\n",
    "    os.mkdir(path_r + varname)\n",
    "\n",
    "for j in range(2010, 2017):\n",
    "    with ( xr.open_dataset( path_d + vars[2] + \"/mexico_\" \n",
    "        + vars[2] + \".\" + str(j) + \".nc\" )\n",
    "        .rename(Tmean = \"degree_day\") ) as ds_mean:\n",
    "        # Establecemos np.nan como valor sin datos.\n",
    "        ds_mean = ds_mean.where(ds_mean > -9000)\n",
    "        ds = ds_mean - clim_mean\n",
    "\n",
    "    ds_HDD = ds.where(ds <= 0)\n",
    "    ds_HDD.to_netcdf(path_r + varname + \"/mexico_\" \n",
    "        + varname + \".\" + str(j) + \".nc\" )"
   ]
  }
 ],
 "metadata": {
  "interpreter": {
   "hash": "61e5a3f3aa95a130d195f400b073dbe78201ba87669bc387338808a06a837447"
  },
  "kernelspec": {
   "display_name": "Python 3.7.10 64-bit ('gv2': conda)",
   "name": "python3"
  },
  "language_info": {
   "codemirror_mode": {
    "name": "ipython",
    "version": 3
   },
   "file_extension": ".py",
   "mimetype": "text/x-python",
   "name": "python",
   "nbconvert_exporter": "python",
   "pygments_lexer": "ipython3",
   "version": "3.7.10"
  },
  "orig_nbformat": 4
 },
 "nbformat": 4,
 "nbformat_minor": 2
}
