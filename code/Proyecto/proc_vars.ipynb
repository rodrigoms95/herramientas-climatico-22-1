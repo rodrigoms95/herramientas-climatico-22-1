{
 "cells": [
  {
   "cell_type": "code",
   "execution_count": 1,
   "metadata": {},
   "outputs": [],
   "source": [
    "# Calcula las variables predictoras.\n",
    "\n",
    "import pandas as pd\n",
    "import numpy as np\n",
    "\n",
    "import xarray as xr"
   ]
  },
  {
   "cell_type": "code",
   "execution_count": 27,
   "metadata": {},
   "outputs": [],
   "source": [
    "path_d = \"../../../resultados/CHIRTS/\"\n",
    "path_r = \"../../../resultados/RandomTree/data/\"\n",
    "path_mask = \"../../../resultados/Municipios/municipios_mask.nc\"\n",
    "f_data = \"data_0.csv\"\n",
    "\n",
    "# Abrimos los archivos a utilizar.\n",
    "mask = xr.open_dataset( path_mask )\n",
    "df = pd.read_csv( path_r + f_data)"
   ]
  },
  {
   "cell_type": "code",
   "execution_count": null,
   "metadata": {},
   "outputs": [],
   "source": [
    "# Variables de CHIRTS.\n",
    "vars = [\"Tmax\", \"Tmin\"]\n",
    "\n",
    "# Variable a procesar, 0 - 18.\n",
    "n = 0\n",
    "var =  df.columns[5:][n]\n",
    "\n",
    "# Procesamos la variable para todos los años\n",
    "for j in range(1995, 2018):\n",
    "    # Abrimos el netCDF del año y variable correspondiente.\n",
    "    with xr.open_dataset( path_d + vars[0] + \"/mexico_\" \n",
    "        + vars[0] + \".\" + str(j) + \".nc\" ) as ds:\n",
    "        # Establecemos np.nan como valor sin datos.\n",
    "        ds = ds.where(ds > -9000)\n",
    "        for i in range( df[\"Municipio\"].max() ):\n",
    "            # Obtenemo☼ el promedio dentro de la máscara\n",
    "            # del municipio.\n",
    "            df.loc[ ( df[\"Año\"] == j ) &\n",
    "                ( df[\"Municipio\"] == i ),\n",
    "                var ] = ( ds.where(mask.\n",
    "                isel(municipio = i) == 1 )\n",
    "                .mean(dim = [\"lat\", \"lon\"])\n",
    "                .to_dataframe().mean()[0] )\n",
    "\n",
    "# Guardamos el resultado como un nuevo archivo.\n",
    "df.to_csv(path_r + \"data_\" + str(n + 1) + \".csv\")"
   ]
  },
  {
   "cell_type": "code",
   "execution_count": 22,
   "metadata": {},
   "outputs": [],
   "source": [
    "'''\n",
    "# Se hace la máscara de México.\n",
    "y = 1995\n",
    "var = \"T_max\"\n",
    "\n",
    "for i in range(10):\n",
    "    df.loc[ ( df[\"Año\"] == y ) &\n",
    "        ( df[\"Municipio\"] == i ),\n",
    "        var ] = ( ds.where( mask\n",
    "        .isel(municipio = i) == 1 )\n",
    "        .mean(dim = [\"lat\", \"lon\"])\n",
    "        .to_dataframe().mean()[0] )\n",
    "'''"
   ]
  }
 ],
 "metadata": {
  "interpreter": {
   "hash": "61e5a3f3aa95a130d195f400b073dbe78201ba87669bc387338808a06a837447"
  },
  "kernelspec": {
   "display_name": "Python 3.7.10 64-bit ('gv2': conda)",
   "name": "python3"
  },
  "language_info": {
   "codemirror_mode": {
    "name": "ipython",
    "version": 3
   },
   "file_extension": ".py",
   "mimetype": "text/x-python",
   "name": "python",
   "nbconvert_exporter": "python",
   "pygments_lexer": "ipython3",
   "version": "3.7.10"
  },
  "orig_nbformat": 4
 },
 "nbformat": 4,
 "nbformat_minor": 2
}
