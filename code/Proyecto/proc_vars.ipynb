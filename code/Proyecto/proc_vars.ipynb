{
  "nbformat": 4,
  "nbformat_minor": 0,
  "metadata": {
    "colab": {
      "name": "proc_vars.ipynb",
      "provenance": [],
      "collapsed_sections": [],
      "mount_file_id": "11WykkEO-K6RZZ3LmNK7MK8iQfnVEkaes",
      "authorship_tag": "ABX9TyM4H8DkMxSP3xGCKLtVWU1/"
    },
    "kernelspec": {
      "name": "python3",
      "display_name": "Python 3"
    },
    "language_info": {
      "name": "python"
    }
  },
  "cells": [
    {
      "cell_type": "code",
      "metadata": {
        "colab": {
          "base_uri": "https://localhost:8080/"
        },
        "id": "VlbVXw0mIZkq",
        "outputId": "a9f36051-7406-4d05-fa9a-b9eae825d87d"
      },
      "source": [
        "# Obtiene una máscara para cada municipio del país.\n",
        "\n",
        "!pip install bottleneck\n",
        "\n",
        "import pandas as pd\n",
        "import numpy as np\n",
        "\n",
        "import xarray as xr\n",
        "\n",
        "from multiprocessing import Pool"
      ],
      "execution_count": null,
      "outputs": [
        {
          "output_type": "stream",
          "name": "stdout",
          "text": [
            "Requirement already satisfied: bottleneck in /usr/local/lib/python3.7/dist-packages (1.3.2)\n",
            "Requirement already satisfied: numpy in /usr/local/lib/python3.7/dist-packages (from bottleneck) (1.19.5)\n"
          ]
        }
      ]
    },
    {
      "cell_type": "code",
      "metadata": {
        "id": "3tpQ26BfJcib"
      },
      "source": [
        "path_drive = \"/content/drive/MyDrive/Colab/\" \n",
        "path_data = path_drive + \"data/\"\n",
        "f_mask = \"municipios_mask.nc\"\n",
        "f_data = \"data_0.csv\"\n",
        "\n",
        "# Abrimos los archivos a utilizar.\n",
        "df = pd.read_csv( path_data + f_data )\n",
        "mask = xr.open_dataset( path_drive + f_mask )"
      ],
      "execution_count": null,
      "outputs": []
    },
    {
      "cell_type": "code",
      "metadata": {
        "id": "cLpaA9aHBUHM"
      },
      "source": [
        "# Procesa la variable para todos los años.\n",
        "def proc_mean(year):\n",
        "    # Abrimos el netCDF del año y variable correspondiente.\n",
        "    with xr.open_dataset( path_d + var_2 + \"/mexico_\" \n",
        "        + var_2 + \".\" + str(year) + \".nc\" ) as ds:\n",
        "        # Establecemos np.nan como valor sin datos.\n",
        "        ds = ds.where(ds > -9000)\n",
        "        df_y = df[ df[\"Año\"] == year ].copy()\n",
        "        for i in range( df[\"Municipio\"].max() + 1 ):\n",
        "            # Obtenemos el promedio dentro de la máscara\n",
        "            # del municipio.\n",
        "            df_y.loc[ df[\"Municipio\"] == i,\n",
        "                var_1 ] = ( ds.where(mask\n",
        "                .isel(municipio = i) == 1 )\n",
        "                .mean(dim = [\"lat\", \"lon\"])\n",
        "                .to_dataframe().mean()[0] )\n",
        "        return df_y\n",
        "\n",
        "# Procesa la variable para todos los años.\n",
        "def proc_sum(year):\n",
        "    # Abrimos el netCDF del año y variable correspondiente.\n",
        "    with xr.open_dataset( path_d + var_2 + \"/mexico_\" \n",
        "        + var_2 + \".\" + str(year) + \".nc\" ) as ds:\n",
        "        df_y = df[ df[\"Año\"] == year ].copy()\n",
        "        for i in range( df[\"Municipio\"].max() + 1 ):\n",
        "            # Obtenemos el promedio dentro de la máscara\n",
        "            # del municipio.\n",
        "            df_y.loc[ df[\"Municipio\"] == i,\n",
        "                var_1 ] = ( ds.where(mask\n",
        "                .isel(municipio = i) == 1 )\n",
        "                .mean(dim = [\"lat\", \"lon\"])\n",
        "                .to_dataframe().sum()[0] )\n",
        "        return df_y"
      ],
      "execution_count": null,
      "outputs": []
    },
    {
      "cell_type": "code",
      "metadata": {
        "id": "p07FtjhLCBLi"
      },
      "source": [
        "# Variables de CHIRTS y CHIRPS.\n",
        "vars = [\"Tmax\", \"Tmin\", \"Tmean\", \"HDD_mean\", \n",
        "        \"CDD_mean\", \"HDD_p10\", \n",
        "        \"CDD_p90\", \"Pre\", \"Pre_Tmean\"]\n",
        "\n",
        "# Variable a procesar, 0 - 8.\n",
        "n = 7\n",
        "var_1 =  df.columns[4:-9][n]\n",
        "var_2 = vars[n]\n",
        "\n",
        "if var_2 == \"Pre\":\n",
        "    folder = \"CHIRPS/\"\n",
        "elif var_2 in vars[0:3] : folder = \"CHIRTS/\"\n",
        "else: folder = \"vars/\"\n",
        "\n",
        "if var_2 in vars[3:7]:\n",
        "    mask = mask.rename_vars(mask = \"degree_day\")\n",
        "else:\n",
        "    mask = mask.rename_vars(mask = var_2)\n",
        "\n",
        "# Dirección de las variables.\n",
        "path_d = path_drive + folder\n",
        "\n",
        "# Años a procesar.\n",
        "year = list(range(2010, 2017))\n",
        "\n",
        "# Procesamos los años en paralelo.\n",
        "pool = Pool()\n",
        "if var_2 in vars[3:9]:\n",
        "    df_r = pool.map(proc_sum, year)\n",
        "else:\n",
        "    df_r = pool.map(proc_mean, year)\n",
        "\n",
        "# Concatenamos los resultados de cada año.\n",
        "for f in df_r:\n",
        "    df.loc[df[\"Año\"] == f[\"Año\"].max() ] = f\n",
        "\n",
        "# Guardamos el resultado como un nuevo archivo.\n",
        "df.to_csv(path_data + \"data_\" + str(n + 1)\n",
        "     + \".csv\", index = False)"
      ],
      "execution_count": null,
      "outputs": []
    }
  ]
}