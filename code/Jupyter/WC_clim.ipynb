{
 "cells": [
  {
   "cell_type": "code",
   "execution_count": 1,
   "source": [
    "# Obtiene la climatología media para 1970-2000 a partir de\r\n",
    "# datos de WorldClim.\r\n",
    "\r\n",
    "import os\r\n",
    "\r\n",
    "import numpy as np\r\n",
    "import xarray as xr"
   ],
   "outputs": [],
   "metadata": {}
  },
  {
   "cell_type": "code",
   "execution_count": 2,
   "source": [
    "origen = \"WC\"\r\n",
    "\r\n",
    "path_d = \"../../datos/\" + origen + \"/\"\r\n",
    "path_r = \"../../resultados/\" + origen + \"/\"\r\n",
    "\r\n",
    "# Se enlistan las subcarpetas de WC_nc.\r\n",
    "WC_nc = os.listdir(path_d)\r\n",
    "\r\n",
    "# Año de inicio y de fin de climatología, inclusive.\r\n",
    "with open(\"../../resultados/periodos\", \"r\") as f:\r\n",
    "    yr_i = f.readline()[:-1]\r\n",
    "    yr_f = f.readline()[:-1]\r\n",
    "\r\n",
    "# Si no existe la carpeta, la crea.\r\n",
    "if not os.path.exists(path_r):\r\n",
    "    os.mkdir(path_r)"
   ],
   "outputs": [],
   "metadata": {}
  },
  {
   "cell_type": "code",
   "execution_count": 10,
   "source": [
    "# Preprocesamiento de cada archivo, donde se agrega la dimensión\r\n",
    "# temporal de acuerdo al nombre del archivo.\r\n",
    "def pre(ds):\r\n",
    "    ds = ds.expand_dims(time =  [np.datetime64(\r\n",
    "        ds[\"crs\"].encoding[\"source\"][-10:-3], \"ns\")])\r\n",
    "    return ds\r\n",
    "\r\n",
    "ds = []\r\n",
    "var = [\"tmax\", \"tmin\"]\r\n",
    "\r\n",
    "# Se obtiene el promedio mensual para cada conjunto de datos.\r\n",
    "for i, value in enumerate(WC_nc[1:]): \r\n",
    "    # Se cargan y concatenan todos los archivos correspondientes\r\n",
    "    # para cada subcarpeta de WC_nc.\r\n",
    "    ds.append(xr.open_mfdataset(\r\n",
    "        path_d + value + \"\\*.nc\", combine = \"nested\",\r\n",
    "        concat_dim = \"time\", parallel = True, preprocess = pre\r\n",
    "        ))\r\n",
    "\r\n",
    "    # Se selecciona el periodo deseado.\r\n",
    "    ds[i] = ds[i].sel(time = slice(yr_i, yr_f))\r\n",
    "\r\n",
    "    # Se hace que las variables sean compatibles.\r\n",
    "    ds[i] = ds[i].rename_vars({var[i]: \"T\"})\r\n",
    "    # Se agrega una dimensión para poder concatenar los archivos.\r\n",
    "    ds[i] = ds[i].expand_dims(num =  [i])\r\n",
    "\r\n",
    "# Se concatenan los archivos.\r\n",
    "ds_conc = xr.combine_nested(ds, concat_dim = \"num\")\r\n",
    "# Se promedia la temperatura maxima y mínima.\r\n",
    "ds_conc = ds_conc.mean(\"num\")\r\n",
    "\r\n",
    "# Se obtiene la media mensual.\r\n",
    "ds_conc = ds_conc.groupby(\"time.month\").mean()\r\n",
    "\r\n",
    "# Se guarda el netCDF.\r\n",
    "ds_conc.to_netcdf(path_r + origen + \"_clim_\" + str(yr_i)\r\n",
    "    + \"_\" + str(yr_f) + \"_monthly.nc\")"
   ],
   "outputs": [
    {
     "output_type": "stream",
     "name": "stderr",
     "text": [
      "C:\\Users\\Rodrigo\\anaconda3\\envs\\gv\\lib\\site-packages\\dask\\array\\numpy_compat.py:39: RuntimeWarning: invalid value encountered in true_divide\n",
      "  x = np.divide(x1, x2, out)\n"
     ]
    }
   ],
   "metadata": {}
  }
 ],
 "metadata": {
  "orig_nbformat": 4,
  "language_info": {
   "name": "python",
   "version": "3.7.10",
   "mimetype": "text/x-python",
   "codemirror_mode": {
    "name": "ipython",
    "version": 3
   },
   "pygments_lexer": "ipython3",
   "nbconvert_exporter": "python",
   "file_extension": ".py"
  },
  "kernelspec": {
   "name": "python3",
   "display_name": "Python 3.7.10 64-bit ('gv': conda)"
  },
  "interpreter": {
   "hash": "6676ca00fb0741993ebaaea950e1452b1d4d3e4d3ff6c8432cb3f62d50337d19"
  }
 },
 "nbformat": 4,
 "nbformat_minor": 2
}