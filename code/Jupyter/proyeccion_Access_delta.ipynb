{
 "cells": [
  {
   "cell_type": "code",
   "execution_count": null,
   "source": [
    "# Suma el delta de temperatura obtenido del modelo Access\r\n",
    "# con el del los datos medidos del CRU y de WorldClim,\r\n",
    "# para el periodo 1970-2000 proyectado a 2020-2040.\r\n",
    "\r\n",
    "import xarray as xr"
   ],
   "outputs": [],
   "metadata": {}
  },
  {
   "cell_type": "code",
   "execution_count": null,
   "source": [
    "origen = [\"CRU\", \"WC\"]\r\n",
    "modelo = \"Access\"\r\n",
    "\r\n",
    "# Año de inicio y de fin de climatología, inclusive.\r\n",
    "with open(\"../../resultados/periodos\", \"r\") as f:\r\n",
    "    yr_i = [f.readline()[:-1]]\r\n",
    "    yr_f = [f.readline()[:-1]]\r\n",
    "    yr_i.append(f.readline()[:-1])\r\n",
    "    yr_f.append(f.readline()[:-1])\r\n",
    "\r\n",
    "path_modelo= os.getcwd() + \"/resultados/\" + modelo + \"/\"\r\n",
    "fname_modelo = (modelo + \"_delta_\" + yr_i[0] + \"_\" + yr_f[0]\r\n",
    "    + \"_\" + yr_i[1] + \"_\" + yr_f[1] + \"_monthly.nc\")\r\n",
    "\r\n",
    "ds_modelo = (xr.load_dataset(path_modelo + fname_modelo)\r\n",
    "    .rename_vars(tas = \"T\"))"
   ],
   "outputs": [],
   "metadata": {}
  },
  {
   "cell_type": "code",
   "execution_count": null,
   "source": [
    "for i in range(0, len(origen)):\r\n",
    "    path_real = \"../../resultados/\" + origen[i] + \"/\"\r\n",
    "    fname_real = (origen[i] + \"_clim_\" + yr_i[0]\r\n",
    "    + \"_\" + yr_f[0] + \"_monthly.nc\")\r\n",
    "\r\n",
    "    with xr.load_dataset(path_real + fname_real) as ds_real:\r\n",
    "        # Se suma la climatología real y el delta del modelo.\r\n",
    "        ds_delta = ds_real + ds_modelo.interp_like(ds_real)\r\n",
    "\r\n",
    "        # Se guarda el netCDF.\r\n",
    "        ds_delta.to_netcdf(\r\n",
    "            path_real + origen[i] + \"_\" + modelo + \"_delta_\"\r\n",
    "            + str(yr_i[0]) + \"_\" + str(yr_f[0]) + \"_\"\r\n",
    "            + str(yr_i[1]) + \"_\" + str(yr_f[1])+\r\n",
    "            \"_monthly.nc\"\r\n",
    "            )"
   ],
   "outputs": [],
   "metadata": {}
  }
 ],
 "metadata": {
  "orig_nbformat": 4,
  "language_info": {
   "name": "python"
  }
 },
 "nbformat": 4,
 "nbformat_minor": 2
}