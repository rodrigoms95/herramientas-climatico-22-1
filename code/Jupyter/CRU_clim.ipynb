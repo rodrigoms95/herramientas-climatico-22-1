{
 "cells": [
  {
   "cell_type": "code",
   "execution_count": null,
   "source": [
    "# Obtiene la climatología media para 1970-2000 a partir de\r\n",
    "# datos del CRU y de WorldClim.\r\n",
    "\r\n",
    "import os\r\n",
    "\r\n",
    "\r\n",
    "import xarray as xr"
   ],
   "outputs": [],
   "metadata": {}
  },
  {
   "cell_type": "code",
   "execution_count": null,
   "source": [
    "origen = \"CRU\"\r\n",
    "\r\n",
    "# Año de inicio y de fin de climatología, inclusive.\r\n",
    "with (\"../../resultados/periodos\", \"r\") as f:\r\n",
    "    yr_i = f.readline()[:-1]\r\n",
    "    yr_f = f.readline()[:-1]\r\n",
    "\r\n",
    "# Nombre de variables en cada conjunto de archivos.\r\n",
    "var = [\"tmx\", \"tmn\", \"pre\"]\r\n",
    "\r\n",
    "ds = []\r\n",
    "    \r\n",
    "path_d = os.getcwd() + \"/datos/\" + origen + \"/\"\r\n",
    "path_r = os.getcwd() + \"/resultados/\" + origen + \"/\"\r\n",
    "\r\n",
    "# Formato del nombre de los archivos.\r\n",
    "name = \"cru_ts4.03.1901.2018.\"\r\n",
    "fname = []\r\n",
    "\r\n",
    "# Si no existe la carpeta, la crea.\r\n",
    "if not os.path.exists(path_r):\r\n",
    "    os.mkdir(path_r)"
   ],
   "outputs": [],
   "metadata": {}
  },
  {
   "cell_type": "code",
   "execution_count": null,
   "source": [
    "# Se obtiene el promedio mensual para cada conjunto de datos.\r\n",
    "for i in range(0, len(var)): \r\n",
    "    # Nombre del archivo.\r\n",
    "    fname.append(name + var[i] + \".dat.nc\")\r\n",
    "\r\n",
    "    # Se cargan y concatenan todos los archivos correspondientes\r\n",
    "    # para cada subcarpeta de WC_nc.\r\n",
    "    ds.append(xr.load_dataset(path_d + fname[i]).drop(\"stn\"))\r\n",
    "\r\n",
    "    # Se selecciona el periodo deseado.\r\n",
    "    ds[i] = ds[i].sel(time = slice(yr_i, yr_f))\r\n",
    "\r\n",
    "    # Se hace que las variables sean compatibles.\r\n",
    "    ds[i] = ds[i].rename_vars({var[i]: \"T\"})\r\n",
    "    # Se agrega una dimensión para poder concatenar los archivos.\r\n",
    "    ds[i] = ds[i].expand_dims(num =  [i])\r\n"
   ],
   "outputs": [],
   "metadata": {}
  },
  {
   "cell_type": "code",
   "execution_count": null,
   "source": [
    "\r\n",
    "# Se concatenan los archivos.\r\n",
    "ds_conc = xr.combine_nested(ds[0:2], concat_dim = \"num\")\r\n",
    "# Se promedia la temperatura maxima y mínima.\r\n",
    "ds_conc = ds_conc.mean(\"num\")\r\n",
    "\r\n",
    "# Se obtiene la media mensual.\r\n",
    "ds_conc = ds_conc.groupby(\"time.month\").mean()\r\n",
    "\r\n",
    "# Se guardan los netCDF.\r\n",
    "ds[-1].to_netcdf(path_r + origen + \"_\" + var[-1] + \"_\" + str(yr_i)\r\n",
    "    + \"_\" + str(yr_f) + \"_monthly.nc\")\r\n",
    "ds_conc.to_netcdf(path_r + origen + \"_clim_\" + str(yr_i)\r\n",
    "    + \"_\" + str(yr_f) + \"_monthly.nc\")"
   ],
   "outputs": [],
   "metadata": {}
  }
 ],
 "metadata": {
  "orig_nbformat": 4,
  "language_info": {
   "name": "python",
   "version": "3.7.10",
   "mimetype": "text/x-python",
   "codemirror_mode": {
    "name": "ipython",
    "version": 3
   },
   "pygments_lexer": "ipython3",
   "nbconvert_exporter": "python",
   "file_extension": ".py"
  },
  "kernelspec": {
   "name": "python3",
   "display_name": "Python 3.7.10 64-bit ('gv': conda)"
  },
  "interpreter": {
   "hash": "6676ca00fb0741993ebaaea950e1452b1d4d3e4d3ff6c8432cb3f62d50337d19"
  }
 },
 "nbformat": 4,
 "nbformat_minor": 2
}