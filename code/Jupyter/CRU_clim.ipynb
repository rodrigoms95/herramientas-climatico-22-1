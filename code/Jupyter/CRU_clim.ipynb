{
 "cells": [
  {
   "cell_type": "code",
   "execution_count": 1,
   "source": [
    "# Obtiene la climatología media para 1970-2000 a partir de\r\n",
    "# datos del CRU y de WorldClim.\r\n",
    "\r\n",
    "import os\r\n",
    "\r\n",
    "\r\n",
    "import xarray as xr"
   ],
   "outputs": [],
   "metadata": {}
  },
  {
   "cell_type": "code",
   "execution_count": 2,
   "source": [
    "origen = [\"CRU\", \"WC\"]\r\n",
    "loc = [\"datos\", \"resultados\"]\r\n",
    "\r\n",
    "# Año de inicio y de fin de climatología, inclusive.\r\n",
    "yr_i = \"1970\"\r\n",
    "yr_f = \"2000\"\r\n",
    "\r\n",
    "# Nombre de variables en cada conjunto de archivos.\r\n",
    "var = [(\"tmx\", \"tmn\"), (\"tmin\", \"tmax\")]\r\n",
    "\r\n",
    "# Decide si quitar o no quitar \"stn\", solo quita para CRU.\r\n",
    "drop = [True, False]"
   ],
   "outputs": [],
   "metadata": {}
  },
  {
   "cell_type": "code",
   "execution_count": 4,
   "source": [
    "# Itera para cada conjunto de datos de origen (CRU y WC).\r\n",
    "for i in range(1, len(origen)):\r\n",
    "    ds = []\r\n",
    "    \r\n",
    "    path_d = \"../../\" + loc[i] + \"/\" + origen[0] + \"/\"\r\n",
    "    path_r = \"../../\" + loc[1] + \"/\" + origen[0] + \"/\"\r\n",
    "\r\n",
    "    # Se enlistan las subcarpetas del directorio.\r\n",
    "    fname = os.listdir(path_d)\r\n",
    "    fname.reverse\r\n",
    "\r\n",
    "    # Si no existe la carpeta, la crea.\r\n",
    "    if not os.path.exists(path_r):\r\n",
    "        os.mkdir(path_r)\r\n",
    "\r\n",
    "    # Se obtiene el promedio mensual para cada conjunto de datos.\r\n",
    "    for j, value in enumerate(fname[0:2]): \r\n",
    "        # Se cargan y concatenan todos los archivos correspondientes\r\n",
    "        # para cada subcarpeta de WC_nc.\r\n",
    "        ds.append(xr.load_dataset(path_d + fname[j]))\r\n",
    "        print(ds[0])\r\n",
    "\r\n",
    "        # Decide si quitar o no quitar \"stn\", solo quita para CRU.\r\n",
    "        if drop[i]: ds[j] = ds[j].drop(\"stn\")\r\n",
    "\r\n",
    "        # Se selecciona el periodo deseado.\r\n",
    "        ds[j] = ds[j].sel(time = slice(yr_i, yr_f))\r\n",
    "\r\n",
    "        # Se hace que las variables sean compatibles.\r\n",
    "        ds[j] = ds[j].rename_vars({var[i][j]: \"T\"})\r\n",
    "        # Se agrega una dimensión para poder concatenar los archivos.\r\n",
    "        ds[j] = ds[j].expand_dims(num =  [i])\r\n",
    "\r\n",
    "    # Se concatenan los archivos.\r\n",
    "    ds_conc = xr.combine_nested(ds, concat_dim = \"num\")\r\n",
    "    # Se promedia la temperatura maxima y mínima.\r\n",
    "    ds_conc = ds_conc.mean(\"num\")\r\n",
    "\r\n",
    "    # Se obtiene la media mensual.\r\n",
    "    ds_conc = ds_conc.groupby(\"time.month\").mean()\r\n",
    "\r\n",
    "    # Se guarda el netCDF.\r\n",
    "    ds_conc.to_netcdf(path_r + origen[i] + \"_clim_\" + str(yr_i)\r\n",
    "        + \"_\" + str(yr_f) + \"_monthly.nc\")\r\n"
   ],
   "outputs": [
    {
     "output_type": "error",
     "ename": "IndexError",
     "evalue": "list index out of range",
     "traceback": [
      "\u001b[1;31m---------------------------------------------------------------------------\u001b[0m",
      "\u001b[1;31mIndexError\u001b[0m                                Traceback (most recent call last)",
      "\u001b[1;32m~\\AppData\\Local\\Temp/ipykernel_12464/1712874208.py\u001b[0m in \u001b[0;36m<module>\u001b[1;34m\u001b[0m\n\u001b[0;32m     19\u001b[0m         \u001b[1;31m# para cada subcarpeta de WC_nc.\u001b[0m\u001b[1;33m\u001b[0m\u001b[1;33m\u001b[0m\u001b[1;33m\u001b[0m\u001b[0m\n\u001b[0;32m     20\u001b[0m         \u001b[0mds\u001b[0m\u001b[1;33m.\u001b[0m\u001b[0mappend\u001b[0m\u001b[1;33m(\u001b[0m\u001b[0mxr\u001b[0m\u001b[1;33m.\u001b[0m\u001b[0mload_dataset\u001b[0m\u001b[1;33m(\u001b[0m\u001b[0mpath_d\u001b[0m \u001b[1;33m+\u001b[0m \u001b[0mfname\u001b[0m\u001b[1;33m[\u001b[0m\u001b[0mj\u001b[0m\u001b[1;33m]\u001b[0m\u001b[1;33m)\u001b[0m\u001b[1;33m)\u001b[0m\u001b[1;33m\u001b[0m\u001b[1;33m\u001b[0m\u001b[0m\n\u001b[1;32m---> 21\u001b[1;33m         \u001b[0mprint\u001b[0m\u001b[1;33m(\u001b[0m\u001b[0mds\u001b[0m\u001b[1;33m[\u001b[0m\u001b[0mi\u001b[0m\u001b[1;33m]\u001b[0m\u001b[1;33m)\u001b[0m\u001b[1;33m\u001b[0m\u001b[1;33m\u001b[0m\u001b[0m\n\u001b[0m\u001b[0;32m     22\u001b[0m \u001b[1;33m\u001b[0m\u001b[0m\n\u001b[0;32m     23\u001b[0m         \u001b[1;31m# Decide si quitar o no quitar \"stn\", solo quita para CRU.\u001b[0m\u001b[1;33m\u001b[0m\u001b[1;33m\u001b[0m\u001b[1;33m\u001b[0m\u001b[0m\n",
      "\u001b[1;31mIndexError\u001b[0m: list index out of range"
     ]
    }
   ],
   "metadata": {}
  }
 ],
 "metadata": {
  "orig_nbformat": 4,
  "language_info": {
   "name": "python",
   "version": "3.7.10",
   "mimetype": "text/x-python",
   "codemirror_mode": {
    "name": "ipython",
    "version": 3
   },
   "pygments_lexer": "ipython3",
   "nbconvert_exporter": "python",
   "file_extension": ".py"
  },
  "kernelspec": {
   "name": "python3",
   "display_name": "Python 3.7.10 64-bit ('gv': conda)"
  },
  "interpreter": {
   "hash": "6676ca00fb0741993ebaaea950e1452b1d4d3e4d3ff6c8432cb3f62d50337d19"
  }
 },
 "nbformat": 4,
 "nbformat_minor": 2
}