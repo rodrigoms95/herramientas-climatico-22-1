{
 "cells": [
  {
   "cell_type": "code",
   "execution_count": 94,
   "source": [
    "import os\r\n",
    "\r\n",
    "import numpy as np\r\n",
    "import xarray as xr"
   ],
   "outputs": [],
   "metadata": {}
  },
  {
   "cell_type": "code",
   "execution_count": 95,
   "source": [
    "fdir_d = \"../datos/WC_nc/\"\r\n",
    "fdir_r = \"../resultados/WC_nc/\"\r\n",
    "\r\n",
    "# Se enlistan las subcarpetas de WC_nc.\r\n",
    "dir_a = os.listdir(fdir_d)\r\n",
    "\r\n",
    "dir_b = []\r\n",
    "\r\n",
    "# Año de inicio y de fin de climatología, inclusive.\r\n",
    "yr_i = 1970\r\n",
    "yr_f = 2000\r\n",
    "\r\n",
    "# Se enlistan los archivos de cada subcarpeta de WC_nc.\r\n",
    "for i in range(0 , len(dir_a)):\r\n",
    "    dir_b.append(os.listdir(fdir_d + dir_a[i]))\r\n",
    "    # Se seleccionan los años escogidos.\r\n",
    "    dir_b[i] = dir_b[i][((yr_i - 1961) * 12) : ((yr_f + 1 - 1961) * 12)]\r\n",
    "\r\n",
    "# Si no existe la carpeta, la crea.\r\n",
    "if not os.path.exists(fdir_r):\r\n",
    "    os.mkdir(fdir_r)"
   ],
   "outputs": [],
   "metadata": {}
  },
  {
   "cell_type": "code",
   "execution_count": 96,
   "source": [
    "# Se obtiene el promedio mensual para cada conjunto de datos.\r\n",
    "for i, value in enumerate(dir_a):\r\n",
    "    ds_time = []\r\n",
    "\r\n",
    "    # Se itera sobre los archivos de la subcarpeta de WC_nc en turno.\r\n",
    "    for j in range(0, len(dir_b[i])):\r\n",
    "        # Se abre el netCDF y se agrega a una lista.\r\n",
    "        ds_time.append(\r\n",
    "            xr.load_dataset(fdir_d + dir_a[i] + \"/\" + dir_b[i][j]))\r\n",
    "        # Se agrega la dimensión temporal con la fecha dada en el\r\n",
    "        # nombre del archivo.\r\n",
    "        ds_time[j] = ds_time[j].expand_dims(\r\n",
    "            time =  [np.datetime64(\r\n",
    "            ds_time[j][\"crs\"].encoding[\"source\"][-10:-3], \"ns\")])\r\n",
    "\r\n",
    "    # Se concatenan todos los netCDF.\r\n",
    "    ds = xr.combine_nested(ds_time, concat_dim = \"time\")\r\n",
    "    # Se obtiene la media mensual.\r\n",
    "    ds = ds.groupby(\"time.month\").mean()\r\n",
    "    # Se guarda el netCDF.\r\n",
    "    ds.to_netcdf(fdir_r + dir_a[i] + \"_\" + str(yr_i)\r\n",
    "        + \"_\" + str(yr_f) + \"_monthly.nc\")"
   ],
   "outputs": [],
   "metadata": {}
  },
  {
   "cell_type": "code",
   "execution_count": 97,
   "source": [
    "# Otra posibilidad, revisar implementación.\r\n",
    "# Debería ser más rápido.\r\n",
    "\r\n",
    "#def pre(ds):\r\n",
    "#    ds = ds.expand_dims(\r\n",
    "#        time =  [np.datetime64(ds[\"prec\"].encoding[\"source\"][-10:-3], \"ns\")]\r\n",
    "#        )\r\n",
    "\r\n",
    "#Prec_xr = xr.open_mfdataset(\r\n",
    "#    fdir + WC[0] + \"\\*.nc\", combine = \"nested\", concat_dim = \"time\",\r\n",
    "#    parallel = True, preprocess = pre)\r\n",
    "\r\n",
    "#Prec_xr"
   ],
   "outputs": [],
   "metadata": {}
  }
 ],
 "metadata": {
  "orig_nbformat": 4,
  "language_info": {
   "name": "python",
   "version": "3.7.10",
   "mimetype": "text/x-python",
   "codemirror_mode": {
    "name": "ipython",
    "version": 3
   },
   "pygments_lexer": "ipython3",
   "nbconvert_exporter": "python",
   "file_extension": ".py"
  },
  "kernelspec": {
   "name": "python3",
   "display_name": "Python 3.7.10 64-bit ('gv': conda)"
  },
  "interpreter": {
   "hash": "6676ca00fb0741993ebaaea950e1452b1d4d3e4d3ff6c8432cb3f62d50337d19"
  }
 },
 "nbformat": 4,
 "nbformat_minor": 2
}